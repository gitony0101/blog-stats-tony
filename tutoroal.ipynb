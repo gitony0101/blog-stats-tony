{
    "cells": [
        {
            "cell_type": "code",
            "execution_count": 1,
            "metadata": {},
            "outputs": [],
            "source": [
                "import matplotlib.pyplot as plt"
            ]
        },
        {
            "cell_type": "code",
            "execution_count": 1,
            "metadata": {},
            "outputs": [],
            "source": [
                "import pathlib"
            ]
        },
        {
            "cell_type": "code",
            "execution_count": 2,
            "metadata": {},
            "outputs": [],
            "source": [
                "from stats_utils.rnd_matrix import *\n",
                "from stats_utils.record_rnd import *"
            ]
        },
        {
            "cell_type": "markdown",
            "metadata": {},
            "source": [
                "## Generate Random 2D-Matrix"
            ]
        },
        {
            "cell_type": "code",
            "execution_count": 4,
            "metadata": {},
            "outputs": [
                {
                    "data": {
                        "text/plain": [
                            "array([[1.        , 0.19441546, 0.83359634],\n",
                            "       [1.        , 0.63501022, 0.93065406],\n",
                            "       [1.        , 0.19481722, 0.28585244],\n",
                            "       [1.        , 0.73209971, 0.82670501],\n",
                            "       [1.        , 0.57082156, 0.96181122],\n",
                            "       [1.        , 0.08102839, 0.87159261],\n",
                            "       [1.        , 0.25509589, 0.34886838],\n",
                            "       [1.        , 0.68243333, 0.86433789],\n",
                            "       [1.        , 0.59129203, 0.8460323 ],\n",
                            "       [1.        , 0.31023468, 0.61688886]])"
                        ]
                    },
                    "execution_count": 4,
                    "metadata": {},
                    "output_type": "execute_result"
                }
            ],
            "source": [
                "rnd_replace_with_const(10, 3, 1)"
            ]
        },
        {
            "cell_type": "code",
            "execution_count": 6,
            "metadata": {},
            "outputs": [
                {
                    "data": {
                        "text/plain": [
                            "array([[0.        , 0.19603413, 0.35186379, 0.36894114, 0.47577167,\n",
                            "        0.50623796, 0.55512328, 0.56333886, 0.63377822, 0.77698372],\n",
                            "       [0.        , 0.1845817 , 0.20174563, 0.21120593, 0.29181892,\n",
                            "        0.40609899, 0.51266404, 0.53279323, 0.77066844, 0.87023521],\n",
                            "       [0.        , 0.14656936, 0.28805116, 0.34308125, 0.35151127,\n",
                            "        0.59946731, 0.60261678, 0.75301808, 0.90851528, 0.95210891]])"
                        ]
                    },
                    "execution_count": 6,
                    "metadata": {},
                    "output_type": "execute_result"
                }
            ],
            "source": [
                "rnd_matrix = rnd_replace_with_const(3, 10, 0, 0)\n",
                "rnd_matrix"
            ]
        },
        {
            "cell_type": "code",
            "execution_count": 7,
            "metadata": {},
            "outputs": [
                {
                    "data": {
                        "image/png": "[encoded data removed]",
                        "text/plain": [
                            "<Figure size 432x288 with 1 Axes>"
                        ]
                    },
                    "metadata": {
                        "needs_background": "light"
                    },
                    "output_type": "display_data"
                }
            ],
            "source": [
                "_, ax = plt.subplots(figsize=(6, 4))\n",
                "\n",
                "for i in range(rnd_matrix.shape[0]):\n",
                "    ax.plot(range(rnd_matrix.shape[1]), rnd_matrix[i,:])\n"
            ]
        },
        {
            "cell_type": "code",
            "execution_count": 11,
            "metadata": {},
            "outputs": [],
            "source": [
                "files = pathlib.Path(\"probability\")\n",
                "\n",
                "for file in files.rglob(pattern=\"*.ipynb\"):\n",
                "    file.rename(file.name.lower())"
            ]
        },
        {
            "cell_type": "code",
            "execution_count": null,
            "metadata": {},
            "outputs": [],
            "source": []
        }
    ],
    "metadata": {
        "interpreter": {
            "hash": "e800442a8199dbcc6635d00dd2fa01c9421dc610d63b67de945b4487d2fb3f05"
        },
        "kernelspec": {
            "display_name": "Python 3.9.10 ('kaggle')",
            "language": "python",
            "name": "python3"
        },
        "language_info": {
            "codemirror_mode": {
                "name": "ipython",
                "version": 3
            },
            "file_extension": ".py",
            "mimetype": "text/x-python",
            "name": "python",
            "nbconvert_exporter": "python",
            "pygments_lexer": "ipython3",
            "version": "3.10.4"
        },
        "orig_nbformat": 4
    },
    "nbformat": 4,
    "nbformat_minor": 2
}
