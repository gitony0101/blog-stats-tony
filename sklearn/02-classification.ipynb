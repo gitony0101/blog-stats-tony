{
    "cells": [
        {
            "cell_type": "markdown",
            "metadata": {},
            "source": [
                "# Classification\n"
            ]
        },
        {
            "cell_type": "code",
            "execution_count": 1,
            "metadata": {},
            "outputs": [],
            "source": [
                "import matplotlib.pyplot as plt\n",
                "import numpy as np\n",
                "import pandas as pd"
            ]
        },
        {
            "cell_type": "code",
            "execution_count": 2,
            "metadata": {},
            "outputs": [],
            "source": [
                "import matplotlib as mpl"
            ]
        },
        {
            "cell_type": "markdown",
            "metadata": {},
            "source": [
                "# MNIST\n"
            ]
        },
        {
            "cell_type": "code",
            "execution_count": 3,
            "metadata": {},
            "outputs": [
                {
                    "data": {
                        "text/plain": [
                            "(70000, 784)"
                        ]
                    },
                    "execution_count": 3,
                    "metadata": {},
                    "output_type": "execute_result"
                }
            ],
            "source": [
                "# from sklearn.datasets import fetch_openml\n",
                "# X, y = fetch_openml('mnist_784', version=1, return_X_y=True, data_home='data')\n",
                "# np.savez(file=\"../../datasets/handson/mnist_784.npz\", X=X, y=y)\n",
                "\n",
                "mnist_784 = np.load('../../datasets/handson/mnist_784.npz', allow_pickle=True)\n",
                "X, y = mnist_784['X'], mnist_784['y']\n",
                "X.shape"
            ]
        },
        {
            "cell_type": "code",
            "execution_count": 4,
            "metadata": {},
            "outputs": [
                {
                    "data": {
                        "text/plain": [
                            "(70000,)"
                        ]
                    },
                    "execution_count": 4,
                    "metadata": {},
                    "output_type": "execute_result"
                }
            ],
            "source": [
                "y.shape"
            ]
        },
        {
            "cell_type": "code",
            "execution_count": 5,
            "metadata": {},
            "outputs": [
                {
                    "data": {
                        "text/plain": [
                            "28.0"
                        ]
                    },
                    "execution_count": 5,
                    "metadata": {},
                    "output_type": "execute_result"
                }
            ],
            "source": [
                "np.sqrt(X.shape[1])"
            ]
        },
        {
            "cell_type": "code",
            "execution_count": 6,
            "metadata": {},
            "outputs": [
                {
                    "data": {
                        "image/png": "[encoded data removed]",
                        "text/plain": [
                            "<Figure size 432x288 with 1 Axes>"
                        ]
                    },
                    "metadata": {
                        "needs_background": "light"
                    },
                    "output_type": "display_data"
                }
            ],
            "source": [
                "some_digit = X[0]\n",
                "\n",
                "plt.imshow(some_digit.reshape(28, 28), cmap=mpl.cm.binary)\n",
                "plt.axis(\"off\")\n",
                "plt.show()"
            ]
        },
        {
            "cell_type": "code",
            "execution_count": 7,
            "metadata": {},
            "outputs": [
                {
                    "data": {
                        "text/plain": [
                            "'5'"
                        ]
                    },
                    "execution_count": 7,
                    "metadata": {},
                    "output_type": "execute_result"
                }
            ],
            "source": [
                "y[0]"
            ]
        },
        {
            "cell_type": "code",
            "execution_count": 8,
            "metadata": {},
            "outputs": [],
            "source": [
                "def plot_digit(data, ax):\n",
                "    image = data.reshape(28, 28)\n",
                "    ax.imshow(image, cmap=mpl.cm.binary, interpolation=\"nearest\")\n",
                "    ax.axis(\"off\")"
            ]
        },
        {
            "cell_type": "code",
            "execution_count": 9,
            "metadata": {},
            "outputs": [
                {
                    "data": {
                        "image/png": "[encoded data removed]",
                        "text/plain": [
                            "<Figure size 432x216 with 100 Axes>"
                        ]
                    },
                    "metadata": {
                        "needs_background": "light"
                    },
                    "output_type": "display_data"
                }
            ],
            "source": [
                "_, axes = plt.subplots(10, 10, figsize=(6, 3), constrained_layout=True)\n",
                "\n",
                "example_images = X[:100]\n",
                "\n",
                "for ind, ax in enumerate(axes.flatten()):\n",
                "    img_data = example_images[ind]\n",
                "    plot_digit(img_data, ax)\n",
                "\n",
                "plt.show()"
            ]
        },
        {
            "cell_type": "code",
            "execution_count": 10,
            "metadata": {},
            "outputs": [],
            "source": [
                "y = y.astype(np.int32)\n",
                "X_train, X_test, y_train, y_test = X[:60000], X[60000:], y[:60000], y[60000:]"
            ]
        },
        {
            "cell_type": "markdown",
            "metadata": {},
            "source": [
                "# Binary classifier\n"
            ]
        },
        {
            "cell_type": "code",
            "execution_count": 11,
            "metadata": {},
            "outputs": [],
            "source": [
                "y_train_5 = (y_train == 5)\n",
                "y_test_5 = (y_test == 5)\n",
                "y_train_5 = y_train_5.ravel()\n",
                "y_test_5 = y_test_5.ravel()"
            ]
        },
        {
            "cell_type": "code",
            "execution_count": 12,
            "metadata": {},
            "outputs": [],
            "source": [
                "from sklearn.linear_model import SGDClassifier"
            ]
        },
        {
            "cell_type": "code",
            "execution_count": 13,
            "metadata": {},
            "outputs": [
                {
                    "data": {
                        "text/plain": [
                            "SGDClassifier(random_state=42)"
                        ]
                    },
                    "execution_count": 13,
                    "metadata": {},
                    "output_type": "execute_result"
                }
            ],
            "source": [
                "sgd_clf = SGDClassifier(max_iter=1000, tol=1e-3, random_state=42)\n",
                "sgd_clf.fit(X_train, y_train_5)"
            ]
        },
        {
            "cell_type": "code",
            "execution_count": 14,
            "metadata": {},
            "outputs": [
                {
                    "data": {
                        "text/plain": [
                            "array([ True])"
                        ]
                    },
                    "execution_count": 14,
                    "metadata": {},
                    "output_type": "execute_result"
                }
            ],
            "source": [
                "sgd_clf.predict([some_digit])"
            ]
        },
        {
            "cell_type": "code",
            "execution_count": 15,
            "metadata": {},
            "outputs": [],
            "source": [
                "from sklearn.model_selection import cross_val_score"
            ]
        },
        {
            "cell_type": "code",
            "execution_count": 16,
            "metadata": {},
            "outputs": [
                {
                    "data": {
                        "text/plain": [
                            "array([0.95035, 0.96035, 0.9604 ])"
                        ]
                    },
                    "execution_count": 16,
                    "metadata": {},
                    "output_type": "execute_result"
                }
            ],
            "source": [
                "cross_val_score(sgd_clf, X_train, y_train_5, cv=3, scoring=\"accuracy\")"
            ]
        },
        {
            "cell_type": "code",
            "execution_count": 17,
            "metadata": {},
            "outputs": [],
            "source": [
                "from sklearn.model_selection import StratifiedKFold\n",
                "from sklearn.base import clone"
            ]
        },
        {
            "cell_type": "code",
            "execution_count": 18,
            "metadata": {},
            "outputs": [
                {
                    "name": "stdout",
                    "output_type": "stream",
                    "text": [
                        "0.9669\n",
                        "0.91625\n",
                        "0.96785\n"
                    ]
                }
            ],
            "source": [
                "skfolds = StratifiedKFold(n_splits=3, shuffle=True, random_state=42)\n",
                "\n",
                "for train_index, test_index in skfolds.split(X_train, y_train_5):\n",
                "    clone_clf = clone(sgd_clf)\n",
                "    X_train_folds, y_train_folds = X_train[train_index], y_train_5[train_index]\n",
                "    X_test_fold, y_test_fold = X_train[test_index], y_train_5[test_index]\n",
                "\n",
                "    clone_clf.fit(X_train_folds, y_train_folds)\n",
                "    y_pred = clone_clf.predict(X_test_fold)\n",
                "    n_correct = sum(y_pred == y_test_fold)\n",
                "    print(n_correct / len(y_pred))"
            ]
        },
        {
            "cell_type": "code",
            "execution_count": 19,
            "metadata": {},
            "outputs": [],
            "source": [
                "from sklearn.base import BaseEstimator"
            ]
        },
        {
            "cell_type": "code",
            "execution_count": 20,
            "metadata": {},
            "outputs": [],
            "source": [
                "class Never5Classifier(BaseEstimator):\n",
                "\n",
                "    def fit(self, X, y=None):\n",
                "        pass\n",
                "\n",
                "    def predict(self, X):\n",
                "        return np.zeros((len(X), 1), dtype=bool)"
            ]
        },
        {
            "cell_type": "code",
            "execution_count": 21,
            "metadata": {},
            "outputs": [],
            "source": [
                "from sklearn.model_selection import cross_val_score, cross_val_predict"
            ]
        },
        {
            "cell_type": "code",
            "execution_count": 22,
            "metadata": {},
            "outputs": [
                {
                    "data": {
                        "text/plain": [
                            "array([0.91125, 0.90855, 0.90915])"
                        ]
                    },
                    "execution_count": 22,
                    "metadata": {},
                    "output_type": "execute_result"
                }
            ],
            "source": [
                "never_5_clf = Never5Classifier()\n",
                "cross_val_score(never_5_clf, X_train, y_train_5, cv=3, scoring=\"accuracy\")"
            ]
        },
        {
            "cell_type": "code",
            "execution_count": 23,
            "metadata": {},
            "outputs": [],
            "source": [
                "y_train_pred = cross_val_predict(sgd_clf, X_train, y_train_5, cv=3)"
            ]
        },
        {
            "cell_type": "code",
            "execution_count": 24,
            "metadata": {},
            "outputs": [],
            "source": [
                "from sklearn.metrics import confusion_matrix, ConfusionMatrixDisplay\n",
                "from sklearn.metrics import precision_score, recall_score, f1_score"
            ]
        },
        {
            "cell_type": "code",
            "execution_count": 25,
            "metadata": {},
            "outputs": [
                {
                    "data": {
                        "text/plain": [
                            "array([[53892,   687],\n",
                            "       [ 1891,  3530]])"
                        ]
                    },
                    "execution_count": 25,
                    "metadata": {},
                    "output_type": "execute_result"
                }
            ],
            "source": [
                "cm = confusion_matrix(y_train_5, y_train_pred)\n",
                "cm"
            ]
        },
        {
            "cell_type": "code",
            "execution_count": 26,
            "metadata": {},
            "outputs": [
                {
                    "data": {
                        "image/png": "[encoded data removed]",
                        "text/plain": [
                            "<Figure size 432x288 with 2 Axes>"
                        ]
                    },
                    "metadata": {
                        "needs_background": "light"
                    },
                    "output_type": "display_data"
                }
            ],
            "source": [
                "cm_display = ConfusionMatrixDisplay(cm).plot()"
            ]
        },
        {
            "cell_type": "code",
            "execution_count": 27,
            "metadata": {},
            "outputs": [
                {
                    "data": {
                        "text/plain": [
                            "array([[54579,     0],\n",
                            "       [    0,  5421]])"
                        ]
                    },
                    "execution_count": 27,
                    "metadata": {},
                    "output_type": "execute_result"
                }
            ],
            "source": [
                "y_train_perfect_predictions = y_train_5\n",
                "cm2 = confusion_matrix(y_train_5, y_train_perfect_predictions)\n",
                "cm2"
            ]
        },
        {
            "cell_type": "code",
            "execution_count": 28,
            "metadata": {},
            "outputs": [
                {
                    "data": {
                        "image/png": "[encoded data removed]",
                        "text/plain": [
                            "<Figure size 432x288 with 2 Axes>"
                        ]
                    },
                    "metadata": {
                        "needs_background": "light"
                    },
                    "output_type": "display_data"
                }
            ],
            "source": [
                "cm_display = ConfusionMatrixDisplay(cm2).plot()"
            ]
        },
        {
            "cell_type": "code",
            "execution_count": 29,
            "metadata": {},
            "outputs": [
                {
                    "data": {
                        "text/plain": [
                            "0.8370879772350012"
                        ]
                    },
                    "execution_count": 29,
                    "metadata": {},
                    "output_type": "execute_result"
                }
            ],
            "source": [
                "precision_score(y_train_5, y_train_pred)"
            ]
        },
        {
            "cell_type": "code",
            "execution_count": 30,
            "metadata": {},
            "outputs": [
                {
                    "data": {
                        "text/plain": [
                            "0.6511713705958311"
                        ]
                    },
                    "execution_count": 30,
                    "metadata": {},
                    "output_type": "execute_result"
                }
            ],
            "source": [
                "recall_score(y_train_5, y_train_pred)"
            ]
        },
        {
            "cell_type": "code",
            "execution_count": 31,
            "metadata": {},
            "outputs": [
                {
                    "data": {
                        "text/plain": [
                            "0.7325171197343846"
                        ]
                    },
                    "execution_count": 31,
                    "metadata": {},
                    "output_type": "execute_result"
                }
            ],
            "source": [
                "f1_score(y_train_5, y_train_pred)"
            ]
        },
        {
            "cell_type": "code",
            "execution_count": 32,
            "metadata": {},
            "outputs": [
                {
                    "data": {
                        "text/plain": [
                            "array([2164.22030239])"
                        ]
                    },
                    "execution_count": 32,
                    "metadata": {},
                    "output_type": "execute_result"
                }
            ],
            "source": [
                "y_scores = sgd_clf.decision_function([some_digit])\n",
                "y_scores"
            ]
        },
        {
            "cell_type": "code",
            "execution_count": 33,
            "metadata": {},
            "outputs": [],
            "source": [
                "threshold = 0\n",
                "y_some_digit_pred = (y_scores > threshold)"
            ]
        },
        {
            "cell_type": "code",
            "execution_count": 34,
            "metadata": {},
            "outputs": [
                {
                    "data": {
                        "text/plain": [
                            "array([ True])"
                        ]
                    },
                    "execution_count": 34,
                    "metadata": {},
                    "output_type": "execute_result"
                }
            ],
            "source": [
                "y_some_digit_pred"
            ]
        },
        {
            "cell_type": "code",
            "execution_count": 35,
            "metadata": {},
            "outputs": [
                {
                    "data": {
                        "text/plain": [
                            "array([False])"
                        ]
                    },
                    "execution_count": 35,
                    "metadata": {},
                    "output_type": "execute_result"
                }
            ],
            "source": [
                "threshold = 8000\n",
                "y_some_digit_pred = (y_scores > threshold)\n",
                "y_some_digit_pred"
            ]
        },
        {
            "cell_type": "code",
            "execution_count": 36,
            "metadata": {},
            "outputs": [],
            "source": [
                "y_scores = cross_val_predict(sgd_clf,\n",
                "                             X_train,\n",
                "                             y_train_5,\n",
                "                             cv=3,\n",
                "                             method=\"decision_function\", n_jobs=2)"
            ]
        },
        {
            "cell_type": "markdown",
            "metadata": {},
            "source": [
                "## P-R curves"
            ]
        },
        {
            "cell_type": "code",
            "execution_count": 37,
            "metadata": {},
            "outputs": [],
            "source": [
                "from sklearn.metrics import precision_recall_curve, PrecisionRecallDisplay"
            ]
        },
        {
            "cell_type": "code",
            "execution_count": 38,
            "metadata": {},
            "outputs": [],
            "source": [
                "precisions, recalls, thresholds = precision_recall_curve(y_train_5, y_scores)"
            ]
        },
        {
            "cell_type": "code",
            "execution_count": 39,
            "metadata": {},
            "outputs": [],
            "source": [
                "def plot_precision_recall_vs_threshold(ax, precisions, recalls, thresholds):\n",
                "    ax.plot(thresholds, precisions[:-1], \"b--\", label=\"Precision\", lw=2)\n",
                "    ax.plot(thresholds, recalls[:-1], \"g-\", label=\"Recall\", lw=2)\n",
                "    ax.legend(loc=\"center right\")\n",
                "    ax.set(xlabel=\"Threshold\")\n",
                "    ax.grid(True)"
            ]
        },
        {
            "cell_type": "code",
            "execution_count": 40,
            "metadata": {},
            "outputs": [
                {
                    "data": {
                        "image/png": "[encoded data removed]",
                        "text/plain": [
                            "<Figure size 432x288 with 1 Axes>"
                        ]
                    },
                    "metadata": {
                        "needs_background": "light"
                    },
                    "output_type": "display_data"
                }
            ],
            "source": [
                "recall_90_precision = recalls[np.argmax(precisions >= 0.90)]\n",
                "threshold_90_precision = thresholds[np.argmax(precisions >= 0.90)]\n",
                "\n",
                "_, ax = plt.subplots(figsize=(6, 4))\n",
                "\n",
                "plot_precision_recall_vs_threshold(ax, precisions, recalls, thresholds)\n",
                "\n",
                "ax.plot([threshold_90_precision, threshold_90_precision], [0., 0.9], \"r:\")\n",
                "ax.plot([-50000, threshold_90_precision], [0.9, 0.9], \"r:\")\n",
                "ax.plot([-50000, threshold_90_precision],\n",
                "        [recall_90_precision, recall_90_precision], \"r:\")\n",
                "ax.plot([threshold_90_precision], [0.9], \"ro\")\n",
                "ax.plot([threshold_90_precision], [recall_90_precision], \"ro\")\n",
                "plt.show()"
            ]
        },
        {
            "cell_type": "code",
            "execution_count": 41,
            "metadata": {},
            "outputs": [
                {
                    "data": {
                        "text/plain": [
                            "True"
                        ]
                    },
                    "execution_count": 41,
                    "metadata": {},
                    "output_type": "execute_result"
                }
            ],
            "source": [
                "(y_train_pred == (y_scores > 0)).all()"
            ]
        },
        {
            "cell_type": "code",
            "execution_count": 42,
            "metadata": {},
            "outputs": [
                {
                    "data": {
                        "image/png": "[encoded data removed]",
                        "text/plain": [
                            "<Figure size 432x288 with 1 Axes>"
                        ]
                    },
                    "metadata": {
                        "needs_background": "light"
                    },
                    "output_type": "display_data"
                }
            ],
            "source": [
                "_, ax = plt.subplots(figsize=(6, 4))\n",
                "\n",
                "PrecisionRecallDisplay(precision=precisions,\n",
                "                       recall=recalls,\n",
                "                       pos_label=sgd_clf.classes_[1]).plot(ax=ax)\n",
                "\n",
                "ax.plot([recall_90_precision, recall_90_precision], [0., 0.9], \"r:\")\n",
                "ax.plot([0.0, recall_90_precision], [0.9, 0.9], \"r:\")\n",
                "ax.plot([recall_90_precision], [0.9], \"ro\")\n",
                "\n",
                "plt.show()"
            ]
        },
        {
            "cell_type": "code",
            "execution_count": 43,
            "metadata": {},
            "outputs": [],
            "source": [
                "threshold_90_precision = thresholds[np.argmax(precisions >= 0.90)]"
            ]
        },
        {
            "cell_type": "code",
            "execution_count": 44,
            "metadata": {},
            "outputs": [
                {
                    "data": {
                        "text/plain": [
                            "3370.0194991439566"
                        ]
                    },
                    "execution_count": 44,
                    "metadata": {},
                    "output_type": "execute_result"
                }
            ],
            "source": [
                "threshold_90_precision"
            ]
        },
        {
            "cell_type": "code",
            "execution_count": 45,
            "metadata": {},
            "outputs": [],
            "source": [
                "y_train_pred_90 = (y_scores >= threshold_90_precision)"
            ]
        },
        {
            "cell_type": "code",
            "execution_count": 46,
            "metadata": {},
            "outputs": [
                {
                    "data": {
                        "text/plain": [
                            "0.9000345901072293"
                        ]
                    },
                    "execution_count": 46,
                    "metadata": {},
                    "output_type": "execute_result"
                }
            ],
            "source": [
                "precision_score(y_train_5, y_train_pred_90)"
            ]
        },
        {
            "cell_type": "code",
            "execution_count": 47,
            "metadata": {},
            "outputs": [
                {
                    "data": {
                        "text/plain": [
                            "0.4799852425751706"
                        ]
                    },
                    "execution_count": 47,
                    "metadata": {},
                    "output_type": "execute_result"
                }
            ],
            "source": [
                "recall_score(y_train_5, y_train_pred_90)"
            ]
        },
        {
            "cell_type": "markdown",
            "metadata": {},
            "source": [
                "## ROC curves\n"
            ]
        },
        {
            "cell_type": "code",
            "execution_count": 48,
            "metadata": {},
            "outputs": [],
            "source": [
                "from sklearn.metrics import roc_curve, RocCurveDisplay, auc, roc_auc_score"
            ]
        },
        {
            "cell_type": "code",
            "execution_count": 49,
            "metadata": {},
            "outputs": [],
            "source": [
                "fpr, tpr, thresholds = roc_curve(y_train_5,\n",
                "                                 y_scores,\n",
                "                                 pos_label=sgd_clf.classes_[1])"
            ]
        },
        {
            "cell_type": "code",
            "execution_count": 50,
            "metadata": {},
            "outputs": [
                {
                    "data": {
                        "text/plain": [
                            "0.9604938554008616"
                        ]
                    },
                    "execution_count": 50,
                    "metadata": {},
                    "output_type": "execute_result"
                }
            ],
            "source": [
                "roc_auc = auc(fpr, tpr)\n",
                "roc_auc"
            ]
        },
        {
            "cell_type": "code",
            "execution_count": 51,
            "metadata": {},
            "outputs": [
                {
                    "data": {
                        "image/png": "[encoded data removed]",
                        "text/plain": [
                            "<Figure size 432x288 with 1 Axes>"
                        ]
                    },
                    "metadata": {
                        "needs_background": "light"
                    },
                    "output_type": "display_data"
                }
            ],
            "source": [
                "_, ax = plt.subplots(figsize=(6, 4))\n",
                "\n",
                "RocCurveDisplay(fpr=fpr, tpr=tpr, roc_auc=roc_auc).plot(ax=ax)\n",
                "\n",
                "fpr_90 = fpr[np.argmax(tpr >= recall_90_precision)]\n",
                "ax.plot([fpr_90, fpr_90], [0., recall_90_precision], \"r:\")\n",
                "ax.plot([0.0, fpr_90], [recall_90_precision, recall_90_precision], \"r:\")\n",
                "ax.plot([fpr_90], [recall_90_precision], \"ro\")\n",
                "ax.set(xlabel='False Positive Rate (Fall-Out)',\n",
                "       ylabel='True Positive Rate (Recall)')\n",
                "plt.show()"
            ]
        },
        {
            "cell_type": "code",
            "execution_count": 52,
            "metadata": {},
            "outputs": [
                {
                    "data": {
                        "text/plain": [
                            "0.9604938554008616"
                        ]
                    },
                    "execution_count": 52,
                    "metadata": {},
                    "output_type": "execute_result"
                }
            ],
            "source": [
                "from sklearn.metrics import roc_auc_score\n",
                "\n",
                "roc_auc_score(y_train_5, y_scores)"
            ]
        },
        {
            "cell_type": "code",
            "execution_count": 53,
            "metadata": {},
            "outputs": [],
            "source": [
                "from sklearn.ensemble import RandomForestClassifier"
            ]
        },
        {
            "cell_type": "code",
            "execution_count": 54,
            "metadata": {},
            "outputs": [],
            "source": [
                "forest_clf = RandomForestClassifier(n_estimators=100, random_state=42)\n",
                "y_probas_forest = cross_val_predict(forest_clf,\n",
                "                                    X_train,\n",
                "                                    y_train_5,\n",
                "                                    cv=3,\n",
                "                                    method=\"predict_proba\", n_jobs=2)"
            ]
        },
        {
            "cell_type": "code",
            "execution_count": 55,
            "metadata": {},
            "outputs": [],
            "source": [
                "y_scores_forest = y_probas_forest[:, 1]  # score = proba of positive class\n",
                "fpr_forest, tpr_forest, thresholds_forest = roc_curve(y_train_5,\n",
                "                                                      y_scores_forest)\n"
            ]
        },
        {
            "cell_type": "code",
            "execution_count": 56,
            "metadata": {},
            "outputs": [
                {
                    "data": {
                        "image/png": "[encoded data removed]",
                        "text/plain": [
                            "<Figure size 432x288 with 1 Axes>"
                        ]
                    },
                    "metadata": {
                        "needs_background": "light"
                    },
                    "output_type": "display_data"
                }
            ],
            "source": [
                "recall_for_forest = tpr_forest[np.argmax(fpr_forest >= fpr_90)]\n",
                "\n",
                "_, ax = plt.subplots(figsize=(6, 4))\n",
                "\n",
                "roc_auc = auc(fpr_forest, tpr_forest)\n",
                "roc_display = RocCurveDisplay(fpr=fpr_forest, tpr=tpr_forest,\n",
                "                              roc_auc=roc_auc).plot(ax=ax)\n",
                "\n",
                "roc_display.line_.set_label(\"Random Forest\")\n",
                "ax.plot(fpr, tpr, \"b:\", lw=2, label=\"SGD\")\n",
                "ax.plot([0.0, fpr_90], [recall_90_precision, recall_90_precision], \"r:\")\n",
                "ax.plot([fpr_90, fpr_90], [0., recall_90_precision], \"r:\")\n",
                "ax.plot([fpr_90, fpr_90], [0., recall_for_forest], \"r:\")\n",
                "ax.plot([fpr_90], [recall_90_precision], \"ro\")\n",
                "ax.plot([fpr_90], [recall_for_forest], \"ro\")\n",
                "ax.grid(True)\n",
                "ax.legend(loc=\"lower right\")\n",
                "plt.show()"
            ]
        },
        {
            "cell_type": "code",
            "execution_count": 57,
            "metadata": {},
            "outputs": [
                {
                    "data": {
                        "text/plain": [
                            "0.9983436731328145"
                        ]
                    },
                    "execution_count": 57,
                    "metadata": {},
                    "output_type": "execute_result"
                }
            ],
            "source": [
                "roc_auc_score(y_train_5, y_scores_forest)"
            ]
        },
        {
            "cell_type": "code",
            "execution_count": 58,
            "metadata": {},
            "outputs": [
                {
                    "data": {
                        "text/plain": [
                            "0.9905083315756169"
                        ]
                    },
                    "execution_count": 58,
                    "metadata": {},
                    "output_type": "execute_result"
                }
            ],
            "source": [
                "y_train_pred_forest = cross_val_predict(forest_clf, X_train, y_train_5, cv=3)\n",
                "precision_score(y_train_5, y_train_pred_forest)"
            ]
        },
        {
            "cell_type": "code",
            "execution_count": 59,
            "metadata": {},
            "outputs": [
                {
                    "data": {
                        "text/plain": [
                            "0.8662608374838591"
                        ]
                    },
                    "execution_count": 59,
                    "metadata": {},
                    "output_type": "execute_result"
                }
            ],
            "source": [
                "recall_score(y_train_5, y_train_pred_forest)"
            ]
        },
        {
            "cell_type": "markdown",
            "metadata": {},
            "source": [
                "# Multiclass classification\n"
            ]
        },
        {
            "cell_type": "code",
            "execution_count": 60,
            "metadata": {},
            "outputs": [],
            "source": [
                "y_train = y_train.ravel()"
            ]
        },
        {
            "cell_type": "code",
            "execution_count": 61,
            "metadata": {},
            "outputs": [
                {
                    "data": {
                        "text/plain": [
                            "array([3], dtype=int32)"
                        ]
                    },
                    "execution_count": 61,
                    "metadata": {},
                    "output_type": "execute_result"
                }
            ],
            "source": [
                "sgd_clf.fit(X_train, y_train)\n",
                "sgd_clf.predict([some_digit])"
            ]
        },
        {
            "cell_type": "code",
            "execution_count": 62,
            "metadata": {},
            "outputs": [
                {
                    "data": {
                        "text/plain": [
                            "array([[-31893.03095419, -34419.69069632,  -9530.63950739,\n",
                            "          1823.73154031, -22320.14822878,  -1385.80478895,\n",
                            "        -26188.91070951, -16147.51323997,  -4604.35491274,\n",
                            "        -12050.767298  ]])"
                        ]
                    },
                    "execution_count": 62,
                    "metadata": {},
                    "output_type": "execute_result"
                }
            ],
            "source": [
                "sgd_clf.decision_function([some_digit])"
            ]
        },
        {
            "cell_type": "code",
            "execution_count": 63,
            "metadata": {},
            "outputs": [],
            "source": [
                "# The following cells may take close to 30 minutes to run, or more depending on your hardware.\n",
                "# cross_val_score(sgd_clf, X_train, y_train, cv=3, scoring=\"accuracy\")"
            ]
        },
        {
            "cell_type": "code",
            "execution_count": 64,
            "metadata": {},
            "outputs": [],
            "source": [
                "from sklearn.preprocessing import StandardScaler"
            ]
        },
        {
            "cell_type": "code",
            "execution_count": 65,
            "metadata": {},
            "outputs": [],
            "source": [
                "scaler = StandardScaler()\n",
                "X_train_scaled = scaler.fit_transform(X_train.astype(np.float64))\n",
                "# cross_val_score(sgd_clf, X_train_scaled, y_train, cv=3, scoring=\"accuracy\")"
            ]
        },
        {
            "cell_type": "markdown",
            "metadata": {},
            "source": [
                "# Error analysis\n"
            ]
        },
        {
            "cell_type": "code",
            "execution_count": 66,
            "metadata": {},
            "outputs": [
                {
                    "data": {
                        "text/plain": [
                            "array([[5577,    0,   22,    5,    8,   43,   36,    6,  225,    1],\n",
                            "       [   0, 6400,   37,   24,    4,   44,    4,    7,  212,   10],\n",
                            "       [  27,   27, 5220,   92,   73,   27,   67,   36,  378,   11],\n",
                            "       [  22,   17,  117, 5227,    2,  203,   27,   40,  403,   73],\n",
                            "       [  12,   14,   41,    9, 5182,   12,   34,   27,  347,  164],\n",
                            "       [  27,   15,   30,  168,   53, 4444,   75,   14,  535,   60],\n",
                            "       [  30,   15,   42,    3,   44,   97, 5552,    3,  131,    1],\n",
                            "       [  21,   10,   51,   30,   49,   12,    3, 5684,  195,  210],\n",
                            "       [  17,   63,   48,   86,    3,  126,   25,   10, 5429,   44],\n",
                            "       [  25,   18,   30,   64,  118,   36,    1,  179,  371, 5107]])"
                        ]
                    },
                    "execution_count": 66,
                    "metadata": {},
                    "output_type": "execute_result"
                }
            ],
            "source": [
                "y_train_pred = cross_val_predict(sgd_clf, X_train_scaled, y_train, cv=3, n_jobs=4)\n",
                "conf_mx = confusion_matrix(y_train, y_train_pred)\n",
                "conf_mx"
            ]
        },
        {
            "cell_type": "code",
            "execution_count": 67,
            "metadata": {},
            "outputs": [
                {
                    "data": {
                        "text/plain": [
                            "<sklearn.metrics._plot.confusion_matrix.ConfusionMatrixDisplay at 0x13738fd30>"
                        ]
                    },
                    "execution_count": 67,
                    "metadata": {},
                    "output_type": "execute_result"
                },
                {
                    "data": {
                        "image/png": "[encoded data removed]",
                        "text/plain": [
                            "<Figure size 576x432 with 2 Axes>"
                        ]
                    },
                    "metadata": {
                        "needs_background": "light"
                    },
                    "output_type": "display_data"
                }
            ],
            "source": [
                "_, ax = plt.subplots(figsize=(8, 6))\n",
                "\n",
                "ConfusionMatrixDisplay(conf_mx).plot(ax=ax)"
            ]
        },
        {
            "cell_type": "code",
            "execution_count": 68,
            "metadata": {},
            "outputs": [
                {
                    "data": {
                        "text/plain": [
                            "<matplotlib.image.AxesImage at 0x137e2df90>"
                        ]
                    },
                    "execution_count": 68,
                    "metadata": {},
                    "output_type": "execute_result"
                },
                {
                    "data": {
                        "image/png": "[encoded data removed]",
                        "text/plain": [
                            "<Figure size 576x432 with 1 Axes>"
                        ]
                    },
                    "metadata": {
                        "needs_background": "light"
                    },
                    "output_type": "display_data"
                }
            ],
            "source": [
                "_, ax = plt.subplots(figsize=(8, 6))\n",
                "\n",
                "row_sums = conf_mx.sum(axis=1, keepdims=True)\n",
                "norm_conf_mx = conf_mx / row_sums\n",
                "\n",
                "np.fill_diagonal(norm_conf_mx, 0)\n",
                "ax.matshow(norm_conf_mx, cmap=plt.cm.gray)"
            ]
        },
        {
            "cell_type": "code",
            "execution_count": 69,
            "metadata": {},
            "outputs": [],
            "source": [
                "def plot_digit(ax, data):\n",
                "    image = data.reshape(28, 28)\n",
                "    ax.imshow(image, cmap=mpl.cm.binary, interpolation=\"nearest\")\n",
                "    ax.axis(\"off\")"
            ]
        },
        {
            "cell_type": "code",
            "execution_count": 70,
            "metadata": {},
            "outputs": [],
            "source": [
                "from itertools import product"
            ]
        },
        {
            "cell_type": "code",
            "execution_count": 71,
            "metadata": {},
            "outputs": [
                {
                    "data": {
                        "image/png": "[encoded data removed]",
                        "text/plain": [
                            "<Figure size 576x576 with 100 Axes>"
                        ]
                    },
                    "metadata": {
                        "needs_background": "light"
                    },
                    "output_type": "display_data"
                }
            ],
            "source": [
                "prod = product([3, 5], repeat=2)\n",
                "prod2 = product([0, 1], repeat=2)\n",
                "\n",
                "fig = plt.figure(figsize=(8, 8))\n",
                "outer_grid = fig.add_gridspec(2, 2, wspace=0.2, hspace=0.2)\n",
                "\n",
                "for p, (a, b) in zip(prod, prod2):\n",
                "    inner_grid = outer_grid[a, b].subgridspec(5, 5)\n",
                "    axes = inner_grid.subplots()\n",
                "\n",
                "    X_c = X_train[(y_train == p[0]) & (y_train_pred == p[1])][:25]\n",
                "\n",
                "    for ind, ax in enumerate(axes.flatten()):\n",
                "        plot_digit(ax, X_c[ind, :])\n",
                "\n",
                "plt.show()"
            ]
        },
        {
            "cell_type": "markdown",
            "metadata": {},
            "source": [
                "# Multilabel classification\n"
            ]
        },
        {
            "cell_type": "code",
            "execution_count": 72,
            "metadata": {},
            "outputs": [],
            "source": [
                "from sklearn.neighbors import KNeighborsClassifier"
            ]
        },
        {
            "cell_type": "code",
            "execution_count": 73,
            "metadata": {},
            "outputs": [
                {
                    "data": {
                        "text/plain": [
                            "KNeighborsClassifier()"
                        ]
                    },
                    "execution_count": 73,
                    "metadata": {},
                    "output_type": "execute_result"
                }
            ],
            "source": [
                "y_train_large = (y_train >= 7)\n",
                "y_train_odd = (y_train % 2 == 1)\n",
                "y_multilabel = np.c_[y_train_large, y_train_odd]\n",
                "\n",
                "knn_clf = KNeighborsClassifier()\n",
                "knn_clf.fit(X_train, y_multilabel)"
            ]
        },
        {
            "cell_type": "code",
            "execution_count": 74,
            "metadata": {},
            "outputs": [
                {
                    "data": {
                        "text/plain": [
                            "array([[False,  True]])"
                        ]
                    },
                    "execution_count": 74,
                    "metadata": {},
                    "output_type": "execute_result"
                }
            ],
            "source": [
                "knn_clf.predict([some_digit])"
            ]
        },
        {
            "cell_type": "markdown",
            "metadata": {},
            "source": [
                "**Warning**: the following cell may take a very long time (possibly hours depending on your hardware).\n"
            ]
        },
        {
            "cell_type": "code",
            "execution_count": 75,
            "metadata": {},
            "outputs": [],
            "source": [
                "# y_train_knn_pred = cross_val_predict(knn_clf, X_train, y_multilabel, cv=3)\n",
                "# f1_score(y_multilabel, y_train_knn_pred, average=\"macro\")"
            ]
        },
        {
            "cell_type": "markdown",
            "metadata": {},
            "source": [
                "# Multioutput classification\n"
            ]
        },
        {
            "cell_type": "code",
            "execution_count": 76,
            "metadata": {},
            "outputs": [],
            "source": [
                "noise = np.random.randint(0, 100, (len(X_train), 784))\n",
                "X_train_mod = X_train + noise\n",
                "noise = np.random.randint(0, 100, (len(X_test), 784))\n",
                "X_test_mod = X_test + noise\n",
                "y_train_mod = X_train\n",
                "y_test_mod = X_test"
            ]
        },
        {
            "cell_type": "code",
            "execution_count": 77,
            "metadata": {},
            "outputs": [
                {
                    "data": {
                        "image/png": "[encoded data removed]",
                        "text/plain": [
                            "<Figure size 432x216 with 2 Axes>"
                        ]
                    },
                    "metadata": {
                        "needs_background": "light"
                    },
                    "output_type": "display_data"
                }
            ],
            "source": [
                "some_index = 0\n",
                "_, axes = plt.subplots(1, 2, figsize=(6, 3), constrained_layout=True)\n",
                "\n",
                "plot_digit(axes[0], X_test_mod[some_index])\n",
                "plot_digit(axes[1], y_test_mod[some_index])\n",
                "plt.show()"
            ]
        },
        {
            "cell_type": "code",
            "execution_count": 78,
            "metadata": {},
            "outputs": [
                {
                    "data": {
                        "image/png": "[encoded data removed]",
                        "text/plain": [
                            "<Figure size 432x288 with 1 Axes>"
                        ]
                    },
                    "metadata": {
                        "needs_background": "light"
                    },
                    "output_type": "display_data"
                }
            ],
            "source": [
                "knn_clf.fit(X_train_mod, y_train_mod)\n",
                "clean_digit = knn_clf.predict([X_test_mod[some_index]])\n",
                "\n",
                "_, ax = plt.subplots(figsize=(6, 4))\n",
                "\n",
                "plot_digit(ax, clean_digit)"
            ]
        },
        {
            "cell_type": "markdown",
            "metadata": {},
            "source": [
                "# Random classifier\n"
            ]
        },
        {
            "cell_type": "code",
            "execution_count": 79,
            "metadata": {},
            "outputs": [],
            "source": [
                "from sklearn.dummy import DummyClassifier"
            ]
        },
        {
            "cell_type": "code",
            "execution_count": 80,
            "metadata": {},
            "outputs": [],
            "source": [
                "dmy_clf = DummyClassifier(strategy=\"prior\")\n",
                "y_probas_dmy = cross_val_predict(dmy_clf,\n",
                "                                 X_train,\n",
                "                                 y_train_5,\n",
                "                                 cv=3,\n",
                "                                 method=\"predict_proba\")\n",
                "y_scores_dmy = y_probas_dmy[:, 1]"
            ]
        },
        {
            "cell_type": "code",
            "execution_count": 81,
            "metadata": {},
            "outputs": [],
            "source": [
                "from sklearn.metrics import roc_curve, RocCurveDisplay"
            ]
        },
        {
            "cell_type": "code",
            "execution_count": 82,
            "metadata": {
                "scrolled": true
            },
            "outputs": [
                {
                    "data": {
                        "text/plain": [
                            "[Text(0.5, 0, 'False Positive Rate (Fall-Out)'),\n",
                            " Text(0, 0.5, 'True Positive Rate (Recall)')]"
                        ]
                    },
                    "execution_count": 82,
                    "metadata": {},
                    "output_type": "execute_result"
                },
                {
                    "data": {
                        "image/png": "[encoded data removed]",
                        "text/plain": [
                            "<Figure size 432x288 with 1 Axes>"
                        ]
                    },
                    "metadata": {
                        "needs_background": "light"
                    },
                    "output_type": "display_data"
                }
            ],
            "source": [
                "fprr, tprr, thresholdsr = roc_curve(y_train_5, y_scores_dmy)\n",
                "\n",
                "_, ax = plt.subplots(figsize=(6, 4))\n",
                "\n",
                "RocCurveDisplay(fpr=fprr, tpr=tprr).plot(ax=ax)\n",
                "ax.set(xlabel='False Positive Rate (Fall-Out)',\n",
                "       ylabel='True Positive Rate (Recall)')"
            ]
        },
        {
            "cell_type": "markdown",
            "metadata": {},
            "source": [
                "# KNN classifier\n"
            ]
        },
        {
            "cell_type": "code",
            "execution_count": 83,
            "metadata": {},
            "outputs": [],
            "source": [
                "from sklearn.neighbors import KNeighborsClassifier"
            ]
        },
        {
            "cell_type": "code",
            "execution_count": 84,
            "metadata": {},
            "outputs": [
                {
                    "data": {
                        "text/plain": [
                            "KNeighborsClassifier(n_neighbors=4, weights='distance')"
                        ]
                    },
                    "execution_count": 84,
                    "metadata": {},
                    "output_type": "execute_result"
                }
            ],
            "source": [
                "knn_clf = KNeighborsClassifier(weights='distance', n_neighbors=4)\n",
                "knn_clf.fit(X_train, y_train)"
            ]
        },
        {
            "cell_type": "code",
            "execution_count": 85,
            "metadata": {},
            "outputs": [],
            "source": [
                "y_knn_pred = knn_clf.predict(X_test)"
            ]
        },
        {
            "cell_type": "code",
            "execution_count": 86,
            "metadata": {},
            "outputs": [],
            "source": [
                "from sklearn.metrics import accuracy_score"
            ]
        },
        {
            "cell_type": "code",
            "execution_count": 87,
            "metadata": {},
            "outputs": [
                {
                    "data": {
                        "text/plain": [
                            "0.9714"
                        ]
                    },
                    "execution_count": 87,
                    "metadata": {},
                    "output_type": "execute_result"
                }
            ],
            "source": [
                "accuracy_score(y_test, y_knn_pred)"
            ]
        },
        {
            "cell_type": "code",
            "execution_count": 88,
            "metadata": {},
            "outputs": [],
            "source": [
                "from scipy.ndimage import shift"
            ]
        },
        {
            "cell_type": "code",
            "execution_count": 89,
            "metadata": {},
            "outputs": [
                {
                    "data": {
                        "image/png": "[encoded data removed]",
                        "text/plain": [
                            "<Figure size 432x288 with 1 Axes>"
                        ]
                    },
                    "metadata": {
                        "needs_background": "light"
                    },
                    "output_type": "display_data"
                }
            ],
            "source": [
                "_, ax = plt.subplots(figsize=(6, 4))\n",
                "\n",
                "\n",
                "def shift_digit(digit_array, dx, dy, new=0):\n",
                "    return shift(digit_array.reshape(28, 28), [dy, dx], cval=new).reshape(784)\n",
                "\n",
                "\n",
                "plot_digit(ax, shift_digit(some_digit, 5, 1, new=100))"
            ]
        },
        {
            "cell_type": "code",
            "execution_count": 90,
            "metadata": {},
            "outputs": [
                {
                    "data": {
                        "text/plain": [
                            "((300000, 784), (300000,))"
                        ]
                    },
                    "execution_count": 90,
                    "metadata": {},
                    "output_type": "execute_result"
                }
            ],
            "source": [
                "X_train_expanded = [X_train]\n",
                "y_train_expanded = [y_train]\n",
                "\n",
                "for dx, dy in ((1, 0), (-1, 0), (0, 1), (0, -1)):\n",
                "    shifted_images = np.apply_along_axis(shift_digit,\n",
                "                                         axis=1,\n",
                "                                         arr=X_train,\n",
                "                                         dx=dx,\n",
                "                                         dy=dy)\n",
                "    X_train_expanded.append(shifted_images)\n",
                "    y_train_expanded.append(y_train)\n",
                "\n",
                "X_train_expanded = np.concatenate(X_train_expanded)\n",
                "y_train_expanded = np.concatenate(y_train_expanded)\n",
                "X_train_expanded.shape, y_train_expanded.shape"
            ]
        },
        {
            "cell_type": "code",
            "execution_count": 91,
            "metadata": {},
            "outputs": [
                {
                    "data": {
                        "text/plain": [
                            "KNeighborsClassifier(n_neighbors=4, weights='distance')"
                        ]
                    },
                    "execution_count": 91,
                    "metadata": {},
                    "output_type": "execute_result"
                }
            ],
            "source": [
                "knn_clf.fit(X_train_expanded, y_train_expanded)"
            ]
        },
        {
            "cell_type": "code",
            "execution_count": 92,
            "metadata": {},
            "outputs": [],
            "source": [
                "y_knn_expanded_pred = knn_clf.predict(X_test)"
            ]
        },
        {
            "cell_type": "code",
            "execution_count": 93,
            "metadata": {},
            "outputs": [
                {
                    "data": {
                        "text/plain": [
                            "0.9763"
                        ]
                    },
                    "execution_count": 93,
                    "metadata": {},
                    "output_type": "execute_result"
                }
            ],
            "source": [
                "accuracy_score(y_test, y_knn_expanded_pred)"
            ]
        },
        {
            "cell_type": "code",
            "execution_count": 94,
            "metadata": {},
            "outputs": [
                {
                    "data": {
                        "text/plain": [
                            "array([[0.24579675, 0.        , 0.        , 0.        , 0.        ,\n",
                            "        0.        , 0.        , 0.        , 0.        , 0.75420325]])"
                        ]
                    },
                    "execution_count": 94,
                    "metadata": {},
                    "output_type": "execute_result"
                }
            ],
            "source": [
                "ambiguous_digit = X_test[2589]\n",
                "knn_clf.predict_proba([ambiguous_digit])"
            ]
        },
        {
            "cell_type": "code",
            "execution_count": 95,
            "metadata": {},
            "outputs": [
                {
                    "data": {
                        "image/png": "[encoded data removed]",
                        "text/plain": [
                            "<Figure size 432x288 with 1 Axes>"
                        ]
                    },
                    "metadata": {
                        "needs_background": "light"
                    },
                    "output_type": "display_data"
                }
            ],
            "source": [
                "_, ax = plt.subplots(figsize=(6, 4))\n",
                "\n",
                "plot_digit(ax, ambiguous_digit)"
            ]
        },
        {
            "cell_type": "markdown",
            "metadata": {},
            "source": [
                "# Data Augmentation\n"
            ]
        },
        {
            "cell_type": "code",
            "execution_count": 96,
            "metadata": {},
            "outputs": [
                {
                    "name": "stderr",
                    "output_type": "stream",
                    "text": [
                        "/var/folders/py/n14256yd5r5ddms88x9bvsv40000gn/T/ipykernel_47960/987197595.py:1: DeprecationWarning: Please use `shift` from the `scipy.ndimage` namespace, the `scipy.ndimage.interpolation` namespace is deprecated.\n",
                        "  from scipy.ndimage.interpolation import shift\n"
                    ]
                }
            ],
            "source": [
                "from scipy.ndimage.interpolation import shift"
            ]
        },
        {
            "cell_type": "code",
            "execution_count": 97,
            "metadata": {},
            "outputs": [],
            "source": [
                "def shift_image(image, dx, dy):\n",
                "    shifted_image = shift(image.reshape(28, 28), [dy, dx],\n",
                "                          cval=0,\n",
                "                          mode=\"constant\")\n",
                "    return shifted_image.reshape([-1])"
            ]
        },
        {
            "cell_type": "code",
            "execution_count": 98,
            "metadata": {},
            "outputs": [
                {
                    "data": {
                        "image/png": "[encoded data removed]",
                        "text/plain": [
                            "<Figure size 864x288 with 3 Axes>"
                        ]
                    },
                    "metadata": {},
                    "output_type": "display_data"
                }
            ],
            "source": [
                "image = X_train[1000]\n",
                "shifted_image_down = shift_image(image, 0, 5)\n",
                "shifted_image_left = shift_image(image, -5, 0)\n",
                "\n",
                "titles = [\"Original\", \"Shifted Down\", \"Shifted Left\"]\n",
                "imgs = [image, shifted_image_down, shifted_image_left]\n",
                "\n",
                "_, axes = plt.subplots(1, 3, figsize=(12, 4), constrained_layout=True)\n",
                "\n",
                "for ax, img, title in zip(axes, imgs, titles):\n",
                "    ax.imshow(img.reshape(28, 28), interpolation=\"nearest\", cmap=\"Greys\")\n",
                "    ax.set(xticks=[], yticks=[], title=title)\n",
                "\n",
                "plt.show()"
            ]
        },
        {
            "cell_type": "code",
            "execution_count": 99,
            "metadata": {},
            "outputs": [],
            "source": [
                "X_train_augmented = [image for image in X_train]\n",
                "y_train_augmented = [label for label in y_train]\n",
                "\n",
                "for dx, dy in ((1, 0), (-1, 0), (0, 1), (0, -1)):\n",
                "    for image, label in zip(X_train, y_train):\n",
                "        X_train_augmented.append(shift_image(image, dx, dy))\n",
                "        y_train_augmented.append(label)\n",
                "\n",
                "X_train_augmented = np.array(X_train_augmented)\n",
                "y_train_augmented = np.array(y_train_augmented)"
            ]
        },
        {
            "cell_type": "code",
            "execution_count": 100,
            "metadata": {},
            "outputs": [],
            "source": [
                "shuffle_idx = np.random.permutation(len(X_train_augmented))\n",
                "X_train_augmented = X_train_augmented[shuffle_idx]\n",
                "y_train_augmented = y_train_augmented[shuffle_idx]"
            ]
        },
        {
            "cell_type": "code",
            "execution_count": 101,
            "metadata": {},
            "outputs": [],
            "source": [
                "knn_clf = KNeighborsClassifier(n_neighbors=5,\n",
                "                               algorithm='auto',\n",
                "                               weights='distance')"
            ]
        },
        {
            "cell_type": "code",
            "execution_count": 102,
            "metadata": {},
            "outputs": [],
            "source": [
                "# knn_clf.fit(X_train_augmented, y_train_augmented)"
            ]
        },
        {
            "cell_type": "markdown",
            "metadata": {},
            "source": [
                "**Warning**: the following cell may take close to an hour to run, depending on your hardware.\n"
            ]
        },
        {
            "cell_type": "code",
            "execution_count": 103,
            "metadata": {},
            "outputs": [],
            "source": [
                "# y_pred = knn_clf.predict(X_test)\n",
                "# accuracy_score(y_test, y_pred)"
            ]
        },
        {
            "cell_type": "markdown",
            "metadata": {},
            "source": [
                "By simply augmenting the data, we got a 0.5% accuracy boost. :)\n"
            ]
        },
        {
            "cell_type": "markdown",
            "metadata": {},
            "source": [
                "# Tackle the Titanic dataset\n"
            ]
        },
        {
            "cell_type": "markdown",
            "metadata": {},
            "source": [
                "The goal is to predict whether or not a passenger survived based on attributes such as their age, sex, passenger class, where they embarked and so on.\n"
            ]
        },
        {
            "cell_type": "code",
            "execution_count": 104,
            "metadata": {},
            "outputs": [],
            "source": [
                "train_data = pd.read_csv(\"../../datasets/handson/titanic_train.csv\")\n",
                "test_data = pd.read_csv(\"../../datasets/handson/titanic_test.csv\")"
            ]
        },
        {
            "cell_type": "markdown",
            "metadata": {},
            "source": [
                "The data is already split into a training set and a test set. However, the test data does _not_ contain the labels: your goal is to train the best model you can using the training data, then make your predictions on the test data and upload them to Kaggle to see your final score.\n"
            ]
        },
        {
            "cell_type": "markdown",
            "metadata": {},
            "source": [
                "Let's take a peek at the top few rows of the training set:\n"
            ]
        },
        {
            "cell_type": "code",
            "execution_count": 105,
            "metadata": {},
            "outputs": [
                {
                    "data": {
                        "text/html": [
                            "<div>\n",
                            "<style scoped>\n",
                            "    .dataframe tbody tr th:only-of-type {\n",
                            "        vertical-align: middle;\n",
                            "    }\n",
                            "\n",
                            "    .dataframe tbody tr th {\n",
                            "        vertical-align: top;\n",
                            "    }\n",
                            "\n",
                            "    .dataframe thead th {\n",
                            "        text-align: right;\n",
                            "    }\n",
                            "</style>\n",
                            "<table border=\"1\" class=\"dataframe\">\n",
                            "  <thead>\n",
                            "    <tr style=\"text-align: right;\">\n",
                            "      <th></th>\n",
                            "      <th>PassengerId</th>\n",
                            "      <th>Survived</th>\n",
                            "      <th>Pclass</th>\n",
                            "      <th>Name</th>\n",
                            "      <th>Sex</th>\n",
                            "      <th>Age</th>\n",
                            "      <th>SibSp</th>\n",
                            "      <th>Parch</th>\n",
                            "      <th>Ticket</th>\n",
                            "      <th>Fare</th>\n",
                            "      <th>Cabin</th>\n",
                            "      <th>Embarked</th>\n",
                            "    </tr>\n",
                            "  </thead>\n",
                            "  <tbody>\n",
                            "    <tr>\n",
                            "      <th>0</th>\n",
                            "      <td>1</td>\n",
                            "      <td>0</td>\n",
                            "      <td>3</td>\n",
                            "      <td>Braund, Mr. Owen Harris</td>\n",
                            "      <td>male</td>\n",
                            "      <td>22.0</td>\n",
                            "      <td>1</td>\n",
                            "      <td>0</td>\n",
                            "      <td>A/5 21171</td>\n",
                            "      <td>7.2500</td>\n",
                            "      <td>NaN</td>\n",
                            "      <td>S</td>\n",
                            "    </tr>\n",
                            "    <tr>\n",
                            "      <th>1</th>\n",
                            "      <td>2</td>\n",
                            "      <td>1</td>\n",
                            "      <td>1</td>\n",
                            "      <td>Cumings, Mrs. John Bradley (Florence Briggs Th...</td>\n",
                            "      <td>female</td>\n",
                            "      <td>38.0</td>\n",
                            "      <td>1</td>\n",
                            "      <td>0</td>\n",
                            "      <td>PC 17599</td>\n",
                            "      <td>71.2833</td>\n",
                            "      <td>C85</td>\n",
                            "      <td>C</td>\n",
                            "    </tr>\n",
                            "    <tr>\n",
                            "      <th>2</th>\n",
                            "      <td>3</td>\n",
                            "      <td>1</td>\n",
                            "      <td>3</td>\n",
                            "      <td>Heikkinen, Miss. Laina</td>\n",
                            "      <td>female</td>\n",
                            "      <td>26.0</td>\n",
                            "      <td>0</td>\n",
                            "      <td>0</td>\n",
                            "      <td>STON/O2. 3101282</td>\n",
                            "      <td>7.9250</td>\n",
                            "      <td>NaN</td>\n",
                            "      <td>S</td>\n",
                            "    </tr>\n",
                            "    <tr>\n",
                            "      <th>3</th>\n",
                            "      <td>4</td>\n",
                            "      <td>1</td>\n",
                            "      <td>1</td>\n",
                            "      <td>Futrelle, Mrs. Jacques Heath (Lily May Peel)</td>\n",
                            "      <td>female</td>\n",
                            "      <td>35.0</td>\n",
                            "      <td>1</td>\n",
                            "      <td>0</td>\n",
                            "      <td>113803</td>\n",
                            "      <td>53.1000</td>\n",
                            "      <td>C123</td>\n",
                            "      <td>S</td>\n",
                            "    </tr>\n",
                            "    <tr>\n",
                            "      <th>4</th>\n",
                            "      <td>5</td>\n",
                            "      <td>0</td>\n",
                            "      <td>3</td>\n",
                            "      <td>Allen, Mr. William Henry</td>\n",
                            "      <td>male</td>\n",
                            "      <td>35.0</td>\n",
                            "      <td>0</td>\n",
                            "      <td>0</td>\n",
                            "      <td>373450</td>\n",
                            "      <td>8.0500</td>\n",
                            "      <td>NaN</td>\n",
                            "      <td>S</td>\n",
                            "    </tr>\n",
                            "  </tbody>\n",
                            "</table>\n",
                            "</div>"
                        ],
                        "text/plain": [
                            "   PassengerId  Survived  Pclass  \\\n",
                            "0            1         0       3   \n",
                            "1            2         1       1   \n",
                            "2            3         1       3   \n",
                            "3            4         1       1   \n",
                            "4            5         0       3   \n",
                            "\n",
                            "                                                Name     Sex   Age  SibSp  \\\n",
                            "0                            Braund, Mr. Owen Harris    male  22.0      1   \n",
                            "1  Cumings, Mrs. John Bradley (Florence Briggs Th...  female  38.0      1   \n",
                            "2                             Heikkinen, Miss. Laina  female  26.0      0   \n",
                            "3       Futrelle, Mrs. Jacques Heath (Lily May Peel)  female  35.0      1   \n",
                            "4                           Allen, Mr. William Henry    male  35.0      0   \n",
                            "\n",
                            "   Parch            Ticket     Fare Cabin Embarked  \n",
                            "0      0         A/5 21171   7.2500   NaN        S  \n",
                            "1      0          PC 17599  71.2833   C85        C  \n",
                            "2      0  STON/O2. 3101282   7.9250   NaN        S  \n",
                            "3      0            113803  53.1000  C123        S  \n",
                            "4      0            373450   8.0500   NaN        S  "
                        ]
                    },
                    "execution_count": 105,
                    "metadata": {},
                    "output_type": "execute_result"
                }
            ],
            "source": [
                "train_data.head()"
            ]
        },
        {
            "cell_type": "markdown",
            "metadata": {},
            "source": [
                "The attributes have the following meaning:\n",
                "\n",
                "- **Survived**: that's the target, 0 means the passenger did not survive, while 1 means he/she survived.\n",
                "- **Pclass**: passenger class.\n",
                "- **Name**, **Sex**, **Age**: self-explanatory\n",
                "- **SibSp**: how many siblings & spouses of the passenger aboard the Titanic.\n",
                "- **Parch**: how many children & parents of the passenger aboard the Titanic.\n",
                "- **Ticket**: ticket id\n",
                "- **Fare**: price paid (in pounds)\n",
                "- **Cabin**: passenger's cabin number\n",
                "- **Embarked**: where the passenger embarked the Titanic\n"
            ]
        },
        {
            "cell_type": "markdown",
            "metadata": {},
            "source": [
                "Let's get more info to see how much data is missing:\n"
            ]
        },
        {
            "cell_type": "code",
            "execution_count": 106,
            "metadata": {},
            "outputs": [
                {
                    "name": "stdout",
                    "output_type": "stream",
                    "text": [
                        "<class 'pandas.core.frame.DataFrame'>\n",
                        "RangeIndex: 891 entries, 0 to 890\n",
                        "Data columns (total 12 columns):\n",
                        " #   Column       Non-Null Count  Dtype  \n",
                        "---  ------       --------------  -----  \n",
                        " 0   PassengerId  891 non-null    int64  \n",
                        " 1   Survived     891 non-null    int64  \n",
                        " 2   Pclass       891 non-null    int64  \n",
                        " 3   Name         891 non-null    object \n",
                        " 4   Sex          891 non-null    object \n",
                        " 5   Age          714 non-null    float64\n",
                        " 6   SibSp        891 non-null    int64  \n",
                        " 7   Parch        891 non-null    int64  \n",
                        " 8   Ticket       891 non-null    object \n",
                        " 9   Fare         891 non-null    float64\n",
                        " 10  Cabin        204 non-null    object \n",
                        " 11  Embarked     889 non-null    object \n",
                        "dtypes: float64(2), int64(5), object(5)\n",
                        "memory usage: 83.7+ KB\n"
                    ]
                }
            ],
            "source": [
                "train_data.info()"
            ]
        },
        {
            "cell_type": "markdown",
            "metadata": {},
            "source": [
                "Okay, the **Age**, **Cabin** and **Embarked** attributes are sometimes null (less than 891 non-null), especially the **Cabin** (77% are null). We will ignore the **Cabin** for now and focus on the rest. The **Age** attribute has about 19% null values, so we will need to decide what to do with them. Replacing null values with the median age seems reasonable.\n"
            ]
        },
        {
            "cell_type": "markdown",
            "metadata": {},
            "source": [
                "The **Name** and **Ticket** attributes may have some value, but they will be a bit tricky to convert into useful numbers that a model can consume. So for now, we will ignore them.\n"
            ]
        },
        {
            "cell_type": "markdown",
            "metadata": {},
            "source": [
                "Let's take a look at the numerical attributes:\n"
            ]
        },
        {
            "cell_type": "code",
            "execution_count": 107,
            "metadata": {},
            "outputs": [
                {
                    "data": {
                        "text/html": [
                            "<div>\n",
                            "<style scoped>\n",
                            "    .dataframe tbody tr th:only-of-type {\n",
                            "        vertical-align: middle;\n",
                            "    }\n",
                            "\n",
                            "    .dataframe tbody tr th {\n",
                            "        vertical-align: top;\n",
                            "    }\n",
                            "\n",
                            "    .dataframe thead th {\n",
                            "        text-align: right;\n",
                            "    }\n",
                            "</style>\n",
                            "<table border=\"1\" class=\"dataframe\">\n",
                            "  <thead>\n",
                            "    <tr style=\"text-align: right;\">\n",
                            "      <th></th>\n",
                            "      <th>PassengerId</th>\n",
                            "      <th>Survived</th>\n",
                            "      <th>Pclass</th>\n",
                            "      <th>Age</th>\n",
                            "      <th>SibSp</th>\n",
                            "      <th>Parch</th>\n",
                            "      <th>Fare</th>\n",
                            "    </tr>\n",
                            "  </thead>\n",
                            "  <tbody>\n",
                            "    <tr>\n",
                            "      <th>count</th>\n",
                            "      <td>891.000000</td>\n",
                            "      <td>891.000000</td>\n",
                            "      <td>891.000000</td>\n",
                            "      <td>714.000000</td>\n",
                            "      <td>891.000000</td>\n",
                            "      <td>891.000000</td>\n",
                            "      <td>891.000000</td>\n",
                            "    </tr>\n",
                            "    <tr>\n",
                            "      <th>mean</th>\n",
                            "      <td>446.000000</td>\n",
                            "      <td>0.383838</td>\n",
                            "      <td>2.308642</td>\n",
                            "      <td>29.699118</td>\n",
                            "      <td>0.523008</td>\n",
                            "      <td>0.381594</td>\n",
                            "      <td>32.204208</td>\n",
                            "    </tr>\n",
                            "    <tr>\n",
                            "      <th>std</th>\n",
                            "      <td>257.353842</td>\n",
                            "      <td>0.486592</td>\n",
                            "      <td>0.836071</td>\n",
                            "      <td>14.526497</td>\n",
                            "      <td>1.102743</td>\n",
                            "      <td>0.806057</td>\n",
                            "      <td>49.693429</td>\n",
                            "    </tr>\n",
                            "    <tr>\n",
                            "      <th>min</th>\n",
                            "      <td>1.000000</td>\n",
                            "      <td>0.000000</td>\n",
                            "      <td>1.000000</td>\n",
                            "      <td>0.420000</td>\n",
                            "      <td>0.000000</td>\n",
                            "      <td>0.000000</td>\n",
                            "      <td>0.000000</td>\n",
                            "    </tr>\n",
                            "    <tr>\n",
                            "      <th>25%</th>\n",
                            "      <td>223.500000</td>\n",
                            "      <td>0.000000</td>\n",
                            "      <td>2.000000</td>\n",
                            "      <td>20.125000</td>\n",
                            "      <td>0.000000</td>\n",
                            "      <td>0.000000</td>\n",
                            "      <td>7.910400</td>\n",
                            "    </tr>\n",
                            "    <tr>\n",
                            "      <th>50%</th>\n",
                            "      <td>446.000000</td>\n",
                            "      <td>0.000000</td>\n",
                            "      <td>3.000000</td>\n",
                            "      <td>28.000000</td>\n",
                            "      <td>0.000000</td>\n",
                            "      <td>0.000000</td>\n",
                            "      <td>14.454200</td>\n",
                            "    </tr>\n",
                            "    <tr>\n",
                            "      <th>75%</th>\n",
                            "      <td>668.500000</td>\n",
                            "      <td>1.000000</td>\n",
                            "      <td>3.000000</td>\n",
                            "      <td>38.000000</td>\n",
                            "      <td>1.000000</td>\n",
                            "      <td>0.000000</td>\n",
                            "      <td>31.000000</td>\n",
                            "    </tr>\n",
                            "    <tr>\n",
                            "      <th>max</th>\n",
                            "      <td>891.000000</td>\n",
                            "      <td>1.000000</td>\n",
                            "      <td>3.000000</td>\n",
                            "      <td>80.000000</td>\n",
                            "      <td>8.000000</td>\n",
                            "      <td>6.000000</td>\n",
                            "      <td>512.329200</td>\n",
                            "    </tr>\n",
                            "  </tbody>\n",
                            "</table>\n",
                            "</div>"
                        ],
                        "text/plain": [
                            "       PassengerId    Survived      Pclass         Age       SibSp  \\\n",
                            "count   891.000000  891.000000  891.000000  714.000000  891.000000   \n",
                            "mean    446.000000    0.383838    2.308642   29.699118    0.523008   \n",
                            "std     257.353842    0.486592    0.836071   14.526497    1.102743   \n",
                            "min       1.000000    0.000000    1.000000    0.420000    0.000000   \n",
                            "25%     223.500000    0.000000    2.000000   20.125000    0.000000   \n",
                            "50%     446.000000    0.000000    3.000000   28.000000    0.000000   \n",
                            "75%     668.500000    1.000000    3.000000   38.000000    1.000000   \n",
                            "max     891.000000    1.000000    3.000000   80.000000    8.000000   \n",
                            "\n",
                            "            Parch        Fare  \n",
                            "count  891.000000  891.000000  \n",
                            "mean     0.381594   32.204208  \n",
                            "std      0.806057   49.693429  \n",
                            "min      0.000000    0.000000  \n",
                            "25%      0.000000    7.910400  \n",
                            "50%      0.000000   14.454200  \n",
                            "75%      0.000000   31.000000  \n",
                            "max      6.000000  512.329200  "
                        ]
                    },
                    "execution_count": 107,
                    "metadata": {},
                    "output_type": "execute_result"
                }
            ],
            "source": [
                "train_data.describe()"
            ]
        },
        {
            "cell_type": "markdown",
            "metadata": {},
            "source": [
                "- Yikes, only 38% **Survived**. :( That's close enough to 40%, so accuracy will be a reasonable metric to evaluate our model.\n",
                "- The mean **Fare** was £32.20, which does not seem so expensive (but it was probably a lot of money back then).\n",
                "- The mean **Age** was less than 30 years old.\n"
            ]
        },
        {
            "cell_type": "markdown",
            "metadata": {},
            "source": [
                "Let's check that the target is indeed 0 or 1:\n"
            ]
        },
        {
            "cell_type": "code",
            "execution_count": 108,
            "metadata": {},
            "outputs": [
                {
                    "data": {
                        "text/plain": [
                            "0    549\n",
                            "1    342\n",
                            "Name: Survived, dtype: int64"
                        ]
                    },
                    "execution_count": 108,
                    "metadata": {},
                    "output_type": "execute_result"
                }
            ],
            "source": [
                "train_data[\"Survived\"].value_counts()"
            ]
        },
        {
            "cell_type": "markdown",
            "metadata": {},
            "source": [
                "Now let's take a quick look at all the categorical attributes:\n"
            ]
        },
        {
            "cell_type": "code",
            "execution_count": 109,
            "metadata": {},
            "outputs": [
                {
                    "data": {
                        "text/plain": [
                            "3    491\n",
                            "1    216\n",
                            "2    184\n",
                            "Name: Pclass, dtype: int64"
                        ]
                    },
                    "execution_count": 109,
                    "metadata": {},
                    "output_type": "execute_result"
                }
            ],
            "source": [
                "train_data[\"Pclass\"].value_counts()"
            ]
        },
        {
            "cell_type": "code",
            "execution_count": 110,
            "metadata": {},
            "outputs": [
                {
                    "data": {
                        "text/plain": [
                            "male      577\n",
                            "female    314\n",
                            "Name: Sex, dtype: int64"
                        ]
                    },
                    "execution_count": 110,
                    "metadata": {},
                    "output_type": "execute_result"
                }
            ],
            "source": [
                "train_data[\"Sex\"].value_counts()"
            ]
        },
        {
            "cell_type": "code",
            "execution_count": 111,
            "metadata": {},
            "outputs": [
                {
                    "data": {
                        "text/plain": [
                            "S    644\n",
                            "C    168\n",
                            "Q     77\n",
                            "Name: Embarked, dtype: int64"
                        ]
                    },
                    "execution_count": 111,
                    "metadata": {},
                    "output_type": "execute_result"
                }
            ],
            "source": [
                "train_data[\"Embarked\"].value_counts()"
            ]
        },
        {
            "cell_type": "markdown",
            "metadata": {},
            "source": [
                "The Embarked attribute tells us where the passenger embarked: C=Cherbourg, Q=Queenstown, S=Southampton.\n"
            ]
        },
        {
            "cell_type": "markdown",
            "metadata": {},
            "source": [
                "Now let's build our preprocessing pipelines. We will reuse the `DataframeSelector` we built in the previous chapter to select specific attributes from the `DataFrame`:\n"
            ]
        },
        {
            "cell_type": "code",
            "execution_count": 112,
            "metadata": {},
            "outputs": [],
            "source": [
                "from sklearn.base import BaseEstimator, TransformerMixin\n",
                "\n",
                "\n",
                "class DataFrameSelector(BaseEstimator, TransformerMixin):\n",
                "\n",
                "    def __init__(self, attribute_names):\n",
                "        self.attribute_names = attribute_names\n",
                "\n",
                "    def fit(self, X, y=None):\n",
                "        return self\n",
                "\n",
                "    def transform(self, X):\n",
                "        return X[self.attribute_names]"
            ]
        },
        {
            "cell_type": "markdown",
            "metadata": {},
            "source": [
                "Let's build the pipeline for the numerical attributes:\n"
            ]
        },
        {
            "cell_type": "code",
            "execution_count": 113,
            "metadata": {},
            "outputs": [],
            "source": [
                "from sklearn.pipeline import Pipeline\n",
                "from sklearn.impute import SimpleImputer"
            ]
        },
        {
            "cell_type": "code",
            "execution_count": 114,
            "metadata": {},
            "outputs": [],
            "source": [
                "num_pipeline = Pipeline([\n",
                "    (\"select_numeric\", DataFrameSelector([\"Age\", \"SibSp\", \"Parch\", \"Fare\"])),\n",
                "    (\"imputer\", SimpleImputer(strategy=\"median\")),\n",
                "])"
            ]
        },
        {
            "cell_type": "code",
            "execution_count": 115,
            "metadata": {},
            "outputs": [
                {
                    "data": {
                        "text/plain": [
                            "array([[22.    ,  1.    ,  0.    ,  7.25  ],\n",
                            "       [38.    ,  1.    ,  0.    , 71.2833],\n",
                            "       [26.    ,  0.    ,  0.    ,  7.925 ],\n",
                            "       ...,\n",
                            "       [28.    ,  1.    ,  2.    , 23.45  ],\n",
                            "       [26.    ,  0.    ,  0.    , 30.    ],\n",
                            "       [32.    ,  0.    ,  0.    ,  7.75  ]])"
                        ]
                    },
                    "execution_count": 115,
                    "metadata": {},
                    "output_type": "execute_result"
                }
            ],
            "source": [
                "num_pipeline.fit_transform(train_data)"
            ]
        },
        {
            "cell_type": "markdown",
            "metadata": {},
            "source": [
                "We will also need an imputer for the string categorical columns (the regular `SimpleImputer` does not work on those):\n"
            ]
        },
        {
            "cell_type": "code",
            "execution_count": 116,
            "metadata": {},
            "outputs": [],
            "source": [
                "class MostFrequentImputer(BaseEstimator, TransformerMixin):\n",
                "\n",
                "    def fit(self, X, y=None):\n",
                "        self.most_frequent_ = pd.Series(\n",
                "            [X[c].value_counts().index[0] for c in X], index=X.columns)\n",
                "        return self\n",
                "\n",
                "    def transform(self, X, y=None):\n",
                "        return X.fillna(self.most_frequent_)"
            ]
        },
        {
            "cell_type": "code",
            "execution_count": 117,
            "metadata": {},
            "outputs": [],
            "source": [
                "from sklearn.preprocessing import OneHotEncoder"
            ]
        },
        {
            "cell_type": "markdown",
            "metadata": {},
            "source": [
                "Now we can build the pipeline for the categorical attributes:\n"
            ]
        },
        {
            "cell_type": "code",
            "execution_count": 118,
            "metadata": {},
            "outputs": [],
            "source": [
                "cat_pipeline = Pipeline([\n",
                "    (\"select_cat\", DataFrameSelector([\"Pclass\", \"Sex\", \"Embarked\"])),\n",
                "    (\"imputer\", MostFrequentImputer()),\n",
                "    (\"cat_encoder\", OneHotEncoder(sparse=False)),\n",
                "])\n"
            ]
        },
        {
            "cell_type": "code",
            "execution_count": 119,
            "metadata": {},
            "outputs": [
                {
                    "data": {
                        "text/plain": [
                            "array([[0., 0., 1., ..., 0., 0., 1.],\n",
                            "       [1., 0., 0., ..., 1., 0., 0.],\n",
                            "       [0., 0., 1., ..., 0., 0., 1.],\n",
                            "       ...,\n",
                            "       [0., 0., 1., ..., 0., 0., 1.],\n",
                            "       [1., 0., 0., ..., 1., 0., 0.],\n",
                            "       [0., 0., 1., ..., 0., 1., 0.]])"
                        ]
                    },
                    "execution_count": 119,
                    "metadata": {},
                    "output_type": "execute_result"
                }
            ],
            "source": [
                "cat_pipeline.fit_transform(train_data)"
            ]
        },
        {
            "cell_type": "markdown",
            "metadata": {},
            "source": [
                "Finally, let's join the numerical and categorical pipelines:\n"
            ]
        },
        {
            "cell_type": "code",
            "execution_count": 120,
            "metadata": {},
            "outputs": [],
            "source": [
                "from sklearn.pipeline import FeatureUnion"
            ]
        },
        {
            "cell_type": "code",
            "execution_count": 121,
            "metadata": {},
            "outputs": [],
            "source": [
                "preprocess_pipeline = FeatureUnion(transformer_list=[\n",
                "    (\"num_pipeline\", num_pipeline),\n",
                "    (\"cat_pipeline\", cat_pipeline),\n",
                "])\n"
            ]
        },
        {
            "cell_type": "markdown",
            "metadata": {},
            "source": [
                "Cool! Now we have a nice preprocessing pipeline that takes the raw data and outputs numerical input features that we can feed to any Machine Learning model we want.\n"
            ]
        },
        {
            "cell_type": "code",
            "execution_count": 122,
            "metadata": {},
            "outputs": [
                {
                    "data": {
                        "text/plain": [
                            "array([[22.,  1.,  0., ...,  0.,  0.,  1.],\n",
                            "       [38.,  1.,  0., ...,  1.,  0.,  0.],\n",
                            "       [26.,  0.,  0., ...,  0.,  0.,  1.],\n",
                            "       ...,\n",
                            "       [28.,  1.,  2., ...,  0.,  0.,  1.],\n",
                            "       [26.,  0.,  0., ...,  1.,  0.,  0.],\n",
                            "       [32.,  0.,  0., ...,  0.,  1.,  0.]])"
                        ]
                    },
                    "execution_count": 122,
                    "metadata": {},
                    "output_type": "execute_result"
                }
            ],
            "source": [
                "X_train = preprocess_pipeline.fit_transform(train_data)\n",
                "X_train"
            ]
        },
        {
            "cell_type": "markdown",
            "metadata": {},
            "source": [
                "Let's not forget to get the labels:\n"
            ]
        },
        {
            "cell_type": "code",
            "execution_count": 123,
            "metadata": {},
            "outputs": [],
            "source": [
                "y_train = train_data[\"Survived\"]"
            ]
        },
        {
            "cell_type": "markdown",
            "metadata": {},
            "source": [
                "We are now ready to train a classifier. Let's start with an `SVC`:\n"
            ]
        },
        {
            "cell_type": "code",
            "execution_count": 124,
            "metadata": {},
            "outputs": [
                {
                    "data": {
                        "text/plain": [
                            "SVC(gamma='auto')"
                        ]
                    },
                    "execution_count": 124,
                    "metadata": {},
                    "output_type": "execute_result"
                }
            ],
            "source": [
                "from sklearn.svm import SVC\n",
                "\n",
                "svm_clf = SVC(gamma=\"auto\")\n",
                "svm_clf.fit(X_train, y_train)"
            ]
        },
        {
            "cell_type": "markdown",
            "metadata": {},
            "source": [
                "Great, our model is trained, let's use it to make predictions on the test set:\n"
            ]
        },
        {
            "cell_type": "code",
            "execution_count": 125,
            "metadata": {},
            "outputs": [],
            "source": [
                "X_test = preprocess_pipeline.transform(test_data)\n",
                "y_pred = svm_clf.predict(X_test)"
            ]
        },
        {
            "cell_type": "markdown",
            "metadata": {},
            "source": [
                "And now we could just build a CSV file with these predictions (respecting the format excepted by Kaggle), then upload it and hope for the best. But wait! We can do better than hope. Why don't we use cross-validation to have an idea of how good our model is?\n"
            ]
        },
        {
            "cell_type": "code",
            "execution_count": 126,
            "metadata": {},
            "outputs": [],
            "source": [
                "from sklearn.model_selection import cross_val_score"
            ]
        },
        {
            "cell_type": "code",
            "execution_count": 127,
            "metadata": {},
            "outputs": [
                {
                    "data": {
                        "text/plain": [
                            "0.7329588014981274"
                        ]
                    },
                    "execution_count": 127,
                    "metadata": {},
                    "output_type": "execute_result"
                }
            ],
            "source": [
                "svm_scores = cross_val_score(svm_clf, X_train, y_train, cv=10)\n",
                "svm_scores.mean()"
            ]
        },
        {
            "cell_type": "markdown",
            "metadata": {},
            "source": [
                "Okay, over 73% accuracy, clearly better than random chance, but it's not a great score. Looking at the [leaderboard](https://www.kaggle.com/c/titanic/leaderboard) for the Titanic competition on Kaggle, you can see that you need to reach above 80% accuracy to be within the top 10% Kagglers. Some reached 100%, but since you can easily find the [list of victims](https://www.encyclopedia-titanica.org/titanic-victims/) of the Titanic, it seems likely that there was little Machine Learning involved in their performance! ;-) So let's try to build a model that reaches 80% accuracy.\n"
            ]
        },
        {
            "cell_type": "markdown",
            "metadata": {},
            "source": [
                "Let's try a `RandomForestClassifier`:\n"
            ]
        },
        {
            "cell_type": "code",
            "execution_count": 128,
            "metadata": {},
            "outputs": [],
            "source": [
                "from sklearn.ensemble import RandomForestClassifier"
            ]
        },
        {
            "cell_type": "code",
            "execution_count": 129,
            "metadata": {},
            "outputs": [
                {
                    "data": {
                        "text/plain": [
                            "0.8126466916354558"
                        ]
                    },
                    "execution_count": 129,
                    "metadata": {},
                    "output_type": "execute_result"
                }
            ],
            "source": [
                "forest_clf = RandomForestClassifier(n_estimators=100, random_state=42)\n",
                "forest_scores = cross_val_score(forest_clf, X_train, y_train, cv=10)\n",
                "forest_scores.mean()"
            ]
        },
        {
            "cell_type": "markdown",
            "metadata": {},
            "source": [
                "That's much better!\n"
            ]
        },
        {
            "cell_type": "markdown",
            "metadata": {},
            "source": [
                "Instead of just looking at the mean accuracy across the 10 cross-validation folds, let's plot all 10 scores for each model, along with a box plot highlighting the lower and upper quartiles, and \"whiskers\" showing the extent of the scores (thanks to Nevin Yilmaz for suggesting this visualization). Note that the `boxplot()` function detects outliers (called \"fliers\") and does not include them within the whiskers. Specifically, if the lower quartile is $Q_1$ and the upper quartile is $Q_3$, then the interquartile range $IQR = Q_3 - Q_1$ (this is the box's height), and any score lower than $Q_1 - 1.5 × IQR$ is a flier, and so is any score greater than $Q3 + 1.5 × IQR$.\n"
            ]
        },
        {
            "cell_type": "code",
            "execution_count": 130,
            "metadata": {},
            "outputs": [
                {
                    "data": {
                        "image/png": "[encoded data removed]",
                        "text/plain": [
                            "<Figure size 432x288 with 1 Axes>"
                        ]
                    },
                    "metadata": {
                        "needs_background": "light"
                    },
                    "output_type": "display_data"
                }
            ],
            "source": [
                "_, ax = plt.subplots(figsize=(6, 4))\n",
                "\n",
                "ax.plot([1] * 10, svm_scores, \".\")\n",
                "ax.plot([2] * 10, forest_scores, \".\")\n",
                "ax.boxplot([svm_scores, forest_scores], labels=(\"SVM\", \"Random Forest\"))\n",
                "ax.set(ylabel=\"Accuracy\")\n",
                "plt.show()"
            ]
        },
        {
            "cell_type": "markdown",
            "metadata": {},
            "source": [
                "To improve this result further, you could:\n",
                "\n",
                "- Compare many more models and tune hyperparameters using cross validation and grid search,\n",
                "- Do more feature engineering, for example:\n",
                "  - replace **SibSp** and **Parch** with their sum,\n",
                "  - try to identify parts of names that correlate well with the **Survived** attribute (e.g. if the name contains \"Countess\", then survival seems more likely),\n",
                "- try to convert numerical attributes to categorical attributes: for example, different age groups had very different survival rates (see below), so it may help to create an age bucket category and use it instead of the age. Similarly, it may be useful to have a special category for people traveling alone since only 30% of them survived (see below).\n"
            ]
        },
        {
            "cell_type": "code",
            "execution_count": 131,
            "metadata": {},
            "outputs": [
                {
                    "data": {
                        "text/html": [
                            "<div>\n",
                            "<style scoped>\n",
                            "    .dataframe tbody tr th:only-of-type {\n",
                            "        vertical-align: middle;\n",
                            "    }\n",
                            "\n",
                            "    .dataframe tbody tr th {\n",
                            "        vertical-align: top;\n",
                            "    }\n",
                            "\n",
                            "    .dataframe thead th {\n",
                            "        text-align: right;\n",
                            "    }\n",
                            "</style>\n",
                            "<table border=\"1\" class=\"dataframe\">\n",
                            "  <thead>\n",
                            "    <tr style=\"text-align: right;\">\n",
                            "      <th></th>\n",
                            "      <th>Survived</th>\n",
                            "    </tr>\n",
                            "    <tr>\n",
                            "      <th>AgeBucket</th>\n",
                            "      <th></th>\n",
                            "    </tr>\n",
                            "  </thead>\n",
                            "  <tbody>\n",
                            "    <tr>\n",
                            "      <th>0.0</th>\n",
                            "      <td>0.576923</td>\n",
                            "    </tr>\n",
                            "    <tr>\n",
                            "      <th>15.0</th>\n",
                            "      <td>0.362745</td>\n",
                            "    </tr>\n",
                            "    <tr>\n",
                            "      <th>30.0</th>\n",
                            "      <td>0.423256</td>\n",
                            "    </tr>\n",
                            "    <tr>\n",
                            "      <th>45.0</th>\n",
                            "      <td>0.404494</td>\n",
                            "    </tr>\n",
                            "    <tr>\n",
                            "      <th>60.0</th>\n",
                            "      <td>0.240000</td>\n",
                            "    </tr>\n",
                            "    <tr>\n",
                            "      <th>75.0</th>\n",
                            "      <td>1.000000</td>\n",
                            "    </tr>\n",
                            "  </tbody>\n",
                            "</table>\n",
                            "</div>"
                        ],
                        "text/plain": [
                            "           Survived\n",
                            "AgeBucket          \n",
                            "0.0        0.576923\n",
                            "15.0       0.362745\n",
                            "30.0       0.423256\n",
                            "45.0       0.404494\n",
                            "60.0       0.240000\n",
                            "75.0       1.000000"
                        ]
                    },
                    "execution_count": 131,
                    "metadata": {},
                    "output_type": "execute_result"
                }
            ],
            "source": [
                "train_data[\"AgeBucket\"] = train_data[\"Age\"] // 15 * 15\n",
                "train_data[[\"AgeBucket\", \"Survived\"]].groupby(['AgeBucket']).mean()"
            ]
        },
        {
            "cell_type": "code",
            "execution_count": 132,
            "metadata": {},
            "outputs": [
                {
                    "data": {
                        "text/html": [
                            "<div>\n",
                            "<style scoped>\n",
                            "    .dataframe tbody tr th:only-of-type {\n",
                            "        vertical-align: middle;\n",
                            "    }\n",
                            "\n",
                            "    .dataframe tbody tr th {\n",
                            "        vertical-align: top;\n",
                            "    }\n",
                            "\n",
                            "    .dataframe thead th {\n",
                            "        text-align: right;\n",
                            "    }\n",
                            "</style>\n",
                            "<table border=\"1\" class=\"dataframe\">\n",
                            "  <thead>\n",
                            "    <tr style=\"text-align: right;\">\n",
                            "      <th></th>\n",
                            "      <th>Survived</th>\n",
                            "    </tr>\n",
                            "    <tr>\n",
                            "      <th>RelativesOnboard</th>\n",
                            "      <th></th>\n",
                            "    </tr>\n",
                            "  </thead>\n",
                            "  <tbody>\n",
                            "    <tr>\n",
                            "      <th>0</th>\n",
                            "      <td>0.303538</td>\n",
                            "    </tr>\n",
                            "    <tr>\n",
                            "      <th>1</th>\n",
                            "      <td>0.552795</td>\n",
                            "    </tr>\n",
                            "    <tr>\n",
                            "      <th>2</th>\n",
                            "      <td>0.578431</td>\n",
                            "    </tr>\n",
                            "    <tr>\n",
                            "      <th>3</th>\n",
                            "      <td>0.724138</td>\n",
                            "    </tr>\n",
                            "    <tr>\n",
                            "      <th>4</th>\n",
                            "      <td>0.200000</td>\n",
                            "    </tr>\n",
                            "    <tr>\n",
                            "      <th>5</th>\n",
                            "      <td>0.136364</td>\n",
                            "    </tr>\n",
                            "    <tr>\n",
                            "      <th>6</th>\n",
                            "      <td>0.333333</td>\n",
                            "    </tr>\n",
                            "    <tr>\n",
                            "      <th>7</th>\n",
                            "      <td>0.000000</td>\n",
                            "    </tr>\n",
                            "    <tr>\n",
                            "      <th>10</th>\n",
                            "      <td>0.000000</td>\n",
                            "    </tr>\n",
                            "  </tbody>\n",
                            "</table>\n",
                            "</div>"
                        ],
                        "text/plain": [
                            "                  Survived\n",
                            "RelativesOnboard          \n",
                            "0                 0.303538\n",
                            "1                 0.552795\n",
                            "2                 0.578431\n",
                            "3                 0.724138\n",
                            "4                 0.200000\n",
                            "5                 0.136364\n",
                            "6                 0.333333\n",
                            "7                 0.000000\n",
                            "10                0.000000"
                        ]
                    },
                    "execution_count": 132,
                    "metadata": {},
                    "output_type": "execute_result"
                }
            ],
            "source": [
                "train_data[\"RelativesOnboard\"] = train_data[\"SibSp\"] + train_data[\"Parch\"]\n",
                "train_data[[\"RelativesOnboard\",\n",
                "            \"Survived\"]].groupby(['RelativesOnboard']).mean()"
            ]
        }
    ],
    "metadata": {
        "interpreter": {
            "hash": "e800442a8199dbcc6635d00dd2fa01c9421dc610d63b67de945b4487d2fb3f05"
        },
        "kernelspec": {
            "display_name": "Python 3.9.7 64-bit ('kaggle': conda)",
            "name": "python3"
        },
        "language_info": {
            "codemirror_mode": {
                "name": "ipython",
                "version": 3
            },
            "file_extension": ".py",
            "mimetype": "text/x-python",
            "name": "python",
            "nbconvert_exporter": "python",
            "pygments_lexer": "ipython3",
            "version": "3.10.4"
        },
        "latex_envs": {
            "LaTeX_envs_menu_present": true,
            "autoclose": false,
            "autocomplete": true,
            "bibliofile": "biblio.bib",
            "cite_by": "apalike",
            "current_citInitial": 1,
            "eqLabelWithNumbers": true,
            "eqNumInitial": 1,
            "hotkeys": {
                "equation": "Ctrl-E",
                "itemize": "Ctrl-I"
            },
            "labels_anchors": false,
            "latex_user_defs": false,
            "report_style_numbering": false,
            "user_envs_cfg": false
        },
        "nav_menu": {},
        "toc": {
            "base_numbering": 1,
            "nav_menu": {},
            "number_sections": true,
            "sideBar": true,
            "skip_h1_title": false,
            "title_cell": "Table of Contents",
            "title_sidebar": "Contents",
            "toc_cell": false,
            "toc_position": {},
            "toc_section_display": "block",
            "toc_window_display": false
        },
        "varInspector": {
            "cols": {
                "lenName": 16,
                "lenType": 16,
                "lenVar": 40
            },
            "kernels_config": {
                "python": {
                    "delete_cmd_postfix": "",
                    "delete_cmd_prefix": "del ",
                    "library": "var_list.py",
                    "varRefreshCmd": "print(var_dic_list())"
                },
                "r": {
                    "delete_cmd_postfix": ") ",
                    "delete_cmd_prefix": "rm(",
                    "library": "var_list.r",
                    "varRefreshCmd": "cat(var_dic_list()) "
                }
            },
            "types_to_exclude": [
                "module",
                "function",
                "builtin_function_or_method",
                "instance",
                "_Feature"
            ],
            "window_display": false
        }
    },
    "nbformat": 4,
    "nbformat_minor": 4
}
