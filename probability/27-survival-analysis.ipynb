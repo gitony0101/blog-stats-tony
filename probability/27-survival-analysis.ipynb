{
 "cells": [
  {
   "cell_type": "markdown",
   "metadata": {},
   "source": [
    "# Survival Analysis"
   ]
  },
  {
   "cell_type": "code",
   "execution_count": 1,
   "metadata": {},
   "outputs": [],
   "source": [
    "import matplotlib.pyplot as plt\n",
    "import numpy as np"
   ]
  },
  {
   "cell_type": "code",
   "execution_count": 2,
   "metadata": {},
   "outputs": [],
   "source": [
    "from scipy import stats"
   ]
  },
  {
   "cell_type": "code",
   "execution_count": 4,
   "metadata": {},
   "outputs": [
    {
     "name": "stderr",
     "output_type": "stream",
     "text": [
      "/var/folders/py/n14256yd5r5ddms88x9bvsv40000gn/T/ipykernel_16913/1283163967.py:8: DeprecationWarning: In future, it will be an error for 'np.bool_' scalars to be interpreted as an index\n",
      "  actual_subs = np.array([[func1.rvs(), func2.rvs()][func3.rvs() < 0.5]\n"
     ]
    }
   ],
   "source": [
    "N = 20\n",
    "study_duration = 12\n",
    "\n",
    "func1 = stats.expon(scale=18)\n",
    "func2 = stats.expon(scale=3)\n",
    "func3 = stats.uniform()\n",
    "\n",
    "actual_subs = np.array([[func1.rvs(), func2.rvs()][func3.rvs() < 0.5]\n",
    "                        for i in range(N)])\n",
    "observed_subs = np.minimum(actual_subs, study_duration)\n",
    "observed = actual_subs < study_duration"
   ]
  },
  {
   "cell_type": "code",
   "execution_count": null,
   "metadata": {},
   "outputs": [],
   "source": []
  }
 ],
 "metadata": {
  "interpreter": {
   "hash": "e800442a8199dbcc6635d00dd2fa01c9421dc610d63b67de945b4487d2fb3f05"
  },
  "kernelspec": {
   "display_name": "Python 3.9.7 64-bit ('kaggle': conda)",
   "name": "python3"
  },
  "language_info": {
   "codemirror_mode": {
    "name": "ipython",
    "version": 3
   },
   "file_extension": ".py",
   "mimetype": "text/x-python",
   "name": "python",
   "nbconvert_exporter": "python",
   "pygments_lexer": "ipython3",
   "version": "3.10.2"
  },
  "orig_nbformat": 4
 },
 "nbformat": 4,
 "nbformat_minor": 2
}
