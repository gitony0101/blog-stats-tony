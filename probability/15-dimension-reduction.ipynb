{
    "cells": [
        {
            "cell_type": "code",
            "execution_count": 1,
            "metadata": {},
            "outputs": [],
            "source": [
                "import matplotlib.pyplot as plt\n",
                "import numpy as np\n",
                "import pandas as pd"
            ]
        },
        {
            "cell_type": "code",
            "execution_count": 2,
            "metadata": {},
            "outputs": [],
            "source": [
                "import pymc as pm\n",
                "import arviz as az\n",
                "az.style.use('arviz-darkgrid')"
            ]
        },
        {
            "cell_type": "markdown",
            "metadata": {},
            "source": [
                "## Discriminative models"
            ]
        },
        {
            "cell_type": "code",
            "execution_count": 3,
            "metadata": {},
            "outputs": [
                {
                    "data": {
                        "text/html": [
                            "<div>\n",
                            "<style scoped>\n",
                            "    .dataframe tbody tr th:only-of-type {\n",
                            "        vertical-align: middle;\n",
                            "    }\n",
                            "\n",
                            "    .dataframe tbody tr th {\n",
                            "        vertical-align: top;\n",
                            "    }\n",
                            "\n",
                            "    .dataframe thead th {\n",
                            "        text-align: right;\n",
                            "    }\n",
                            "</style>\n",
                            "<table border=\"1\" class=\"dataframe\">\n",
                            "  <thead>\n",
                            "    <tr style=\"text-align: right;\">\n",
                            "      <th></th>\n",
                            "      <th>sepal_length</th>\n",
                            "      <th>sepal_width</th>\n",
                            "      <th>petal_length</th>\n",
                            "      <th>petal_width</th>\n",
                            "      <th>species</th>\n",
                            "    </tr>\n",
                            "  </thead>\n",
                            "  <tbody>\n",
                            "    <tr>\n",
                            "      <th>0</th>\n",
                            "      <td>5.1</td>\n",
                            "      <td>3.5</td>\n",
                            "      <td>1.4</td>\n",
                            "      <td>0.2</td>\n",
                            "      <td>setosa</td>\n",
                            "    </tr>\n",
                            "    <tr>\n",
                            "      <th>1</th>\n",
                            "      <td>4.9</td>\n",
                            "      <td>3.0</td>\n",
                            "      <td>1.4</td>\n",
                            "      <td>0.2</td>\n",
                            "      <td>setosa</td>\n",
                            "    </tr>\n",
                            "    <tr>\n",
                            "      <th>2</th>\n",
                            "      <td>4.7</td>\n",
                            "      <td>3.2</td>\n",
                            "      <td>1.3</td>\n",
                            "      <td>0.2</td>\n",
                            "      <td>setosa</td>\n",
                            "    </tr>\n",
                            "    <tr>\n",
                            "      <th>3</th>\n",
                            "      <td>4.6</td>\n",
                            "      <td>3.1</td>\n",
                            "      <td>1.5</td>\n",
                            "      <td>0.2</td>\n",
                            "      <td>setosa</td>\n",
                            "    </tr>\n",
                            "    <tr>\n",
                            "      <th>4</th>\n",
                            "      <td>5.0</td>\n",
                            "      <td>3.6</td>\n",
                            "      <td>1.4</td>\n",
                            "      <td>0.2</td>\n",
                            "      <td>setosa</td>\n",
                            "    </tr>\n",
                            "  </tbody>\n",
                            "</table>\n",
                            "</div>"
                        ],
                        "text/plain": [
                            "   sepal_length  sepal_width  petal_length  petal_width species\n",
                            "0           5.1          3.5           1.4          0.2  setosa\n",
                            "1           4.9          3.0           1.4          0.2  setosa\n",
                            "2           4.7          3.2           1.3          0.2  setosa\n",
                            "3           4.6          3.1           1.5          0.2  setosa\n",
                            "4           5.0          3.6           1.4          0.2  setosa"
                        ]
                    },
                    "execution_count": 3,
                    "metadata": {},
                    "output_type": "execute_result"
                }
            ],
            "source": [
                "iris = pd.read_csv('../../datasets/stats/iris.csv')\n",
                "iris.head()"
            ]
        },
        {
            "cell_type": "code",
            "execution_count": 4,
            "metadata": {},
            "outputs": [],
            "source": [
                "df = iris.query(\"species == ('setosa', 'versicolor')\")\n",
                "x_0 = df['sepal_length'].values\n",
                "x_c = x_0 - x_0.mean()\n",
                "y_0 = pd.Categorical(df['species']).codes"
            ]
        },
        {
            "cell_type": "code",
            "execution_count": 5,
            "metadata": {},
            "outputs": [],
            "source": [
                "with pm.Model() as lda:\n",
                "    μ = pm.Normal('μ', mu=0, sd=10, shape=2)\n",
                "    σ = pm.HalfNormal('σ', 10)\n",
                "    setosa = pm.Normal('setosa', mu=μ[0], sd=σ, observed=x_0[:50])\n",
                "    versicolor = pm.Normal('versicolor', mu=μ[1], sd=σ,\n",
                "                           observed=x_0[50:])\n",
                "    bd = pm.Deterministic('bd', (μ[0] + μ[1]) / 2)\n",
                "    # trace_lda = pm.sample(1000, return_inferencedata=True)\n",
                "    # trace_lda.to_netcdf(\"data/ch7/iris_lda.nc\")\n",
                "    trace_lda = az.from_netcdf(\"../../data-pymc/ch7/iris_lda.nc\")"
            ]
        },
        {
            "cell_type": "code",
            "execution_count": 6,
            "metadata": {},
            "outputs": [
                {
                    "data": {
                        "image/svg+xml": "<?xml version=\"1.0\" encoding=\"UTF-8\" standalone=\"no\"?>\n<!DOCTYPE svg PUBLIC \"-//W3C//DTD SVG 1.1//EN\"\n \"http://www.w3.org/Graphics/SVG/1.1/DTD/svg11.dtd\">\n<!-- Generated by graphviz version 3.0.0 (0)\n -->\n<!-- Pages: 1 -->\n<svg width=\"372pt\" height=\"260pt\"\n viewBox=\"0.00 0.00 371.50 259.91\" xmlns=\"http://www.w3.org/2000/svg\" xmlns:xlink=\"http://www.w3.org/1999/xlink\">\n<g id=\"graph0\" class=\"graph\" transform=\"scale(1 1) rotate(0) translate(4 255.91)\">\n<polygon fill=\"white\" stroke=\"transparent\" points=\"-4,4 -4,-255.91 367.5,-255.91 367.5,4 -4,4\"/>\n<g id=\"clust2\" class=\"cluster\">\n<title>cluster50</title>\n<path fill=\"none\" stroke=\"black\" d=\"M113.5,-8C113.5,-8 343.5,-8 343.5,-8 349.5,-8 355.5,-14 355.5,-20 355.5,-20 355.5,-109.95 355.5,-109.95 355.5,-115.95 349.5,-121.95 343.5,-121.95 343.5,-121.95 113.5,-121.95 113.5,-121.95 107.5,-121.95 101.5,-115.95 101.5,-109.95 101.5,-109.95 101.5,-20 101.5,-20 101.5,-14 107.5,-8 113.5,-8\"/>\n<text text-anchor=\"middle\" x=\"340.5\" y=\"-15.8\" font-family=\"Times,serif\" font-size=\"14.00\">50</text>\n</g>\n<g id=\"clust1\" class=\"cluster\">\n<title>cluster2</title>\n<path fill=\"none\" stroke=\"black\" d=\"M121.5,-129.95C121.5,-129.95 197.5,-129.95 197.5,-129.95 203.5,-129.95 209.5,-135.95 209.5,-141.95 209.5,-141.95 209.5,-231.91 209.5,-231.91 209.5,-237.91 203.5,-243.91 197.5,-243.91 197.5,-243.91 121.5,-243.91 121.5,-243.91 115.5,-243.91 109.5,-237.91 109.5,-231.91 109.5,-231.91 109.5,-141.95 109.5,-141.95 109.5,-135.95 115.5,-129.95 121.5,-129.95\"/>\n<text text-anchor=\"middle\" x=\"198\" y=\"-137.75\" font-family=\"Times,serif\" font-size=\"14.00\">2</text>\n</g>\n<!-- μ -->\n<g id=\"node1\" class=\"node\">\n<title>μ</title>\n<ellipse fill=\"none\" stroke=\"black\" cx=\"159.5\" cy=\"-198.43\" rx=\"41.94\" ry=\"37.45\"/>\n<text text-anchor=\"middle\" x=\"159.5\" y=\"-209.73\" font-family=\"Times,serif\" font-size=\"14.00\">μ</text>\n<text text-anchor=\"middle\" x=\"159.5\" y=\"-194.73\" font-family=\"Times,serif\" font-size=\"14.00\">~</text>\n<text text-anchor=\"middle\" x=\"159.5\" y=\"-179.73\" font-family=\"Times,serif\" font-size=\"14.00\">Normal</text>\n</g>\n<!-- bd -->\n<g id=\"node2\" class=\"node\">\n<title>bd</title>\n<polygon fill=\"none\" stroke=\"black\" points=\"91,-102.98 0,-102.98 0,-49.98 91,-49.98 91,-102.98\"/>\n<text text-anchor=\"middle\" x=\"45.5\" y=\"-87.78\" font-family=\"Times,serif\" font-size=\"14.00\">bd</text>\n<text text-anchor=\"middle\" x=\"45.5\" y=\"-72.78\" font-family=\"Times,serif\" font-size=\"14.00\">~</text>\n<text text-anchor=\"middle\" x=\"45.5\" y=\"-57.78\" font-family=\"Times,serif\" font-size=\"14.00\">Deterministic</text>\n</g>\n<!-- μ&#45;&gt;bd -->\n<g id=\"edge7\" class=\"edge\">\n<title>μ&#45;&gt;bd</title>\n<path fill=\"none\" stroke=\"black\" d=\"M132.77,-169.31C116.19,-151.86 94.79,-129.34 77.33,-110.97\"/>\n<polygon fill=\"black\" stroke=\"black\" points=\"79.54,-108.21 70.11,-103.38 74.47,-113.04 79.54,-108.21\"/>\n</g>\n<!-- setosa -->\n<g id=\"node4\" class=\"node\">\n<title>setosa</title>\n<ellipse fill=\"lightgrey\" stroke=\"black\" cx=\"287.5\" cy=\"-76.48\" rx=\"41.94\" ry=\"37.45\"/>\n<text text-anchor=\"middle\" x=\"287.5\" y=\"-87.78\" font-family=\"Times,serif\" font-size=\"14.00\">setosa</text>\n<text text-anchor=\"middle\" x=\"287.5\" y=\"-72.78\" font-family=\"Times,serif\" font-size=\"14.00\">~</text>\n<text text-anchor=\"middle\" x=\"287.5\" y=\"-57.78\" font-family=\"Times,serif\" font-size=\"14.00\">Normal</text>\n</g>\n<!-- μ&#45;&gt;setosa -->\n<g id=\"edge2\" class=\"edge\">\n<title>μ&#45;&gt;setosa</title>\n<path fill=\"none\" stroke=\"black\" d=\"M179.8,-165.67C189.11,-153.15 201.07,-139.5 214.5,-129.95 222.98,-123.93 227.54,-127.24 236.5,-121.95 241.69,-118.89 246.84,-115.28 251.77,-111.45\"/>\n<polygon fill=\"black\" stroke=\"black\" points=\"254.29,-113.91 259.81,-104.87 249.85,-108.49 254.29,-113.91\"/>\n</g>\n<!-- versicolor -->\n<g id=\"node5\" class=\"node\">\n<title>versicolor</title>\n<ellipse fill=\"lightgrey\" stroke=\"black\" cx=\"159.5\" cy=\"-76.48\" rx=\"50.41\" ry=\"37.45\"/>\n<text text-anchor=\"middle\" x=\"159.5\" y=\"-87.78\" font-family=\"Times,serif\" font-size=\"14.00\">versicolor</text>\n<text text-anchor=\"middle\" x=\"159.5\" y=\"-72.78\" font-family=\"Times,serif\" font-size=\"14.00\">~</text>\n<text text-anchor=\"middle\" x=\"159.5\" y=\"-57.78\" font-family=\"Times,serif\" font-size=\"14.00\">Normal</text>\n</g>\n<!-- μ&#45;&gt;versicolor -->\n<g id=\"edge5\" class=\"edge\">\n<title>μ&#45;&gt;versicolor</title>\n<path fill=\"none\" stroke=\"black\" d=\"M159.5,-160.79C159.5,-149.38 159.5,-136.65 159.5,-124.63\"/>\n<polygon fill=\"black\" stroke=\"black\" points=\"163,-124.31 159.5,-114.31 156,-124.31 163,-124.31\"/>\n</g>\n<!-- σ -->\n<g id=\"node3\" class=\"node\">\n<title>σ</title>\n<ellipse fill=\"none\" stroke=\"black\" cx=\"282.5\" cy=\"-198.43\" rx=\"58.88\" ry=\"37.45\"/>\n<text text-anchor=\"middle\" x=\"282.5\" y=\"-209.73\" font-family=\"Times,serif\" font-size=\"14.00\">σ</text>\n<text text-anchor=\"middle\" x=\"282.5\" y=\"-194.73\" font-family=\"Times,serif\" font-size=\"14.00\">~</text>\n<text text-anchor=\"middle\" x=\"282.5\" y=\"-179.73\" font-family=\"Times,serif\" font-size=\"14.00\">HalfNormal</text>\n</g>\n<!-- σ&#45;&gt;setosa -->\n<g id=\"edge3\" class=\"edge\">\n<title>σ&#45;&gt;setosa</title>\n<path fill=\"none\" stroke=\"black\" d=\"M284.03,-160.79C284.5,-149.38 285.03,-136.65 285.53,-124.63\"/>\n<polygon fill=\"black\" stroke=\"black\" points=\"289.05,-124.44 285.96,-114.31 282.05,-124.15 289.05,-124.44\"/>\n</g>\n<!-- σ&#45;&gt;versicolor -->\n<g id=\"edge6\" class=\"edge\">\n<title>σ&#45;&gt;versicolor</title>\n<path fill=\"none\" stroke=\"black\" d=\"M250.92,-166.5C239.18,-155.02 225.74,-141.88 213.5,-129.95 208.16,-124.75 202.52,-119.25 196.97,-113.86\"/>\n<polygon fill=\"black\" stroke=\"black\" points=\"199.12,-111.07 189.51,-106.6 194.24,-116.09 199.12,-111.07\"/>\n</g>\n<!-- setosa&#45;&gt;setosa -->\n<g id=\"edge1\" class=\"edge\">\n<title>setosa&#45;&gt;setosa</title>\n<path fill=\"none\" stroke=\"black\" d=\"M321.27,-98.78C335.31,-100.32 347.22,-92.88 347.22,-76.48 347.22,-64.3 340.66,-57.07 331.54,-54.77\"/>\n<polygon fill=\"black\" stroke=\"black\" points=\"331.45,-51.26 321.27,-54.17 331.04,-58.25 331.45,-51.26\"/>\n</g>\n<!-- versicolor&#45;&gt;versicolor -->\n<g id=\"edge4\" class=\"edge\">\n<title>versicolor&#45;&gt;versicolor</title>\n<path fill=\"none\" stroke=\"black\" d=\"M199.77,-98.91C215.06,-99.77 227.7,-92.3 227.7,-76.48 227.7,-64.36 220.29,-57.14 209.96,-54.81\"/>\n<polygon fill=\"black\" stroke=\"black\" points=\"210.01,-51.3 199.77,-54.04 209.48,-58.28 210.01,-51.3\"/>\n</g>\n</g>\n</svg>\n",
                        "text/plain": [
                            "<graphviz.graphs.Digraph at 0x15a127d60>"
                        ]
                    },
                    "execution_count": 6,
                    "metadata": {},
                    "output_type": "execute_result"
                }
            ],
            "source": [
                "pm.model_to_graphviz(lda)"
            ]
        },
        {
            "cell_type": "code",
            "execution_count": 7,
            "metadata": {},
            "outputs": [
                {
                    "data": {
                        "text/html": [
                            "<div>\n",
                            "<style scoped>\n",
                            "    .dataframe tbody tr th:only-of-type {\n",
                            "        vertical-align: middle;\n",
                            "    }\n",
                            "\n",
                            "    .dataframe tbody tr th {\n",
                            "        vertical-align: top;\n",
                            "    }\n",
                            "\n",
                            "    .dataframe thead th {\n",
                            "        text-align: right;\n",
                            "    }\n",
                            "</style>\n",
                            "<table border=\"1\" class=\"dataframe\">\n",
                            "  <thead>\n",
                            "    <tr style=\"text-align: right;\">\n",
                            "      <th></th>\n",
                            "      <th>mean</th>\n",
                            "      <th>sd</th>\n",
                            "      <th>hdi_3%</th>\n",
                            "      <th>hdi_97%</th>\n",
                            "      <th>mcse_mean</th>\n",
                            "      <th>mcse_sd</th>\n",
                            "      <th>ess_bulk</th>\n",
                            "      <th>ess_tail</th>\n",
                            "      <th>r_hat</th>\n",
                            "    </tr>\n",
                            "  </thead>\n",
                            "  <tbody>\n",
                            "    <tr>\n",
                            "      <th>μ[0]</th>\n",
                            "      <td>5.005</td>\n",
                            "      <td>0.065</td>\n",
                            "      <td>4.875</td>\n",
                            "      <td>5.119</td>\n",
                            "      <td>0.001</td>\n",
                            "      <td>0.001</td>\n",
                            "      <td>2691.0</td>\n",
                            "      <td>1314.0</td>\n",
                            "      <td>1.0</td>\n",
                            "    </tr>\n",
                            "    <tr>\n",
                            "      <th>μ[1]</th>\n",
                            "      <td>5.936</td>\n",
                            "      <td>0.065</td>\n",
                            "      <td>5.816</td>\n",
                            "      <td>6.052</td>\n",
                            "      <td>0.001</td>\n",
                            "      <td>0.001</td>\n",
                            "      <td>2594.0</td>\n",
                            "      <td>1468.0</td>\n",
                            "      <td>1.0</td>\n",
                            "    </tr>\n",
                            "    <tr>\n",
                            "      <th>σ</th>\n",
                            "      <td>0.447</td>\n",
                            "      <td>0.033</td>\n",
                            "      <td>0.386</td>\n",
                            "      <td>0.508</td>\n",
                            "      <td>0.001</td>\n",
                            "      <td>0.000</td>\n",
                            "      <td>2477.0</td>\n",
                            "      <td>1484.0</td>\n",
                            "      <td>1.0</td>\n",
                            "    </tr>\n",
                            "    <tr>\n",
                            "      <th>bd</th>\n",
                            "      <td>5.470</td>\n",
                            "      <td>0.045</td>\n",
                            "      <td>5.382</td>\n",
                            "      <td>5.552</td>\n",
                            "      <td>0.001</td>\n",
                            "      <td>0.001</td>\n",
                            "      <td>2446.0</td>\n",
                            "      <td>1351.0</td>\n",
                            "      <td>1.0</td>\n",
                            "    </tr>\n",
                            "  </tbody>\n",
                            "</table>\n",
                            "</div>"
                        ],
                        "text/plain": [
                            "       mean     sd  hdi_3%  hdi_97%  mcse_mean  mcse_sd  ess_bulk  ess_tail  \\\n",
                            "μ[0]  5.005  0.065   4.875    5.119      0.001    0.001    2691.0    1314.0   \n",
                            "μ[1]  5.936  0.065   5.816    6.052      0.001    0.001    2594.0    1468.0   \n",
                            "σ     0.447  0.033   0.386    0.508      0.001    0.000    2477.0    1484.0   \n",
                            "bd    5.470  0.045   5.382    5.552      0.001    0.001    2446.0    1351.0   \n",
                            "\n",
                            "      r_hat  \n",
                            "μ[0]    1.0  \n",
                            "μ[1]    1.0  \n",
                            "σ       1.0  \n",
                            "bd      1.0  "
                        ]
                    },
                    "execution_count": 7,
                    "metadata": {},
                    "output_type": "execute_result"
                }
            ],
            "source": [
                "az.summary(trace_lda)"
            ]
        },
        {
            "cell_type": "code",
            "execution_count": 11,
            "metadata": {},
            "outputs": [],
            "source": [
                "# az.summary(trace_lda).to_markdown()"
            ]
        },
        {
            "cell_type": "code",
            "execution_count": 9,
            "metadata": {},
            "outputs": [
                {
                    "data": {
                        "text/plain": [
                            "[Text(0.5, 0, 'sepal_length'), Text(0, 0.5, 'θ')]"
                        ]
                    },
                    "execution_count": 9,
                    "metadata": {},
                    "output_type": "execute_result"
                },
                {
                    "data": {
                        "image/png": "[encoded data removed]",
                        "text/plain": [
                            "<Figure size 600x400 with 1 Axes>"
                        ]
                    },
                    "metadata": {},
                    "output_type": "display_data"
                }
            ],
            "source": [
                "bd = trace_lda.posterior['bd'].mean(axis=0)\n",
                "\n",
                "_, ax = plt.subplots(figsize=(6, 4))\n",
                "\n",
                "ax.plot(x_0, np.random.normal(y_0, 0.02), '.', color='k')\n",
                "\n",
                "ax.axvline(bd.mean(axis=0), ymax=1, color='C1')\n",
                "bd_hpd = az.hdi(bd.values)\n",
                "ax.fill_betweenx([0, 1], bd_hpd[0], bd_hpd[1], color='C1', alpha=0.5)\n",
                "\n",
                "ax.set(xlabel='sepal_length', ylabel='θ')\n",
                "# plt.savefig('images/ch7/iris_lda.png')"
            ]
        },
        {
            "cell_type": "code",
            "execution_count": 10,
            "metadata": {},
            "outputs": [
                {
                    "data": {
                        "text/html": [
                            "<div>\n",
                            "<style scoped>\n",
                            "    .dataframe tbody tr th:only-of-type {\n",
                            "        vertical-align: middle;\n",
                            "    }\n",
                            "\n",
                            "    .dataframe tbody tr th {\n",
                            "        vertical-align: top;\n",
                            "    }\n",
                            "\n",
                            "    .dataframe thead th {\n",
                            "        text-align: right;\n",
                            "    }\n",
                            "</style>\n",
                            "<table border=\"1\" class=\"dataframe\">\n",
                            "  <thead>\n",
                            "    <tr style=\"text-align: right;\">\n",
                            "      <th></th>\n",
                            "      <th>mean</th>\n",
                            "      <th>sd</th>\n",
                            "      <th>hdi_3%</th>\n",
                            "      <th>hdi_97%</th>\n",
                            "      <th>mcse_mean</th>\n",
                            "      <th>mcse_sd</th>\n",
                            "      <th>ess_bulk</th>\n",
                            "      <th>ess_tail</th>\n",
                            "      <th>r_hat</th>\n",
                            "    </tr>\n",
                            "  </thead>\n",
                            "  <tbody>\n",
                            "    <tr>\n",
                            "      <th>μ[0]</th>\n",
                            "      <td>5.005</td>\n",
                            "      <td>0.065</td>\n",
                            "      <td>4.875</td>\n",
                            "      <td>5.119</td>\n",
                            "      <td>0.001</td>\n",
                            "      <td>0.001</td>\n",
                            "      <td>2691.0</td>\n",
                            "      <td>1314.0</td>\n",
                            "      <td>1.0</td>\n",
                            "    </tr>\n",
                            "    <tr>\n",
                            "      <th>μ[1]</th>\n",
                            "      <td>5.936</td>\n",
                            "      <td>0.065</td>\n",
                            "      <td>5.816</td>\n",
                            "      <td>6.052</td>\n",
                            "      <td>0.001</td>\n",
                            "      <td>0.001</td>\n",
                            "      <td>2594.0</td>\n",
                            "      <td>1468.0</td>\n",
                            "      <td>1.0</td>\n",
                            "    </tr>\n",
                            "    <tr>\n",
                            "      <th>σ</th>\n",
                            "      <td>0.447</td>\n",
                            "      <td>0.033</td>\n",
                            "      <td>0.386</td>\n",
                            "      <td>0.508</td>\n",
                            "      <td>0.001</td>\n",
                            "      <td>0.000</td>\n",
                            "      <td>2477.0</td>\n",
                            "      <td>1484.0</td>\n",
                            "      <td>1.0</td>\n",
                            "    </tr>\n",
                            "    <tr>\n",
                            "      <th>bd</th>\n",
                            "      <td>5.470</td>\n",
                            "      <td>0.045</td>\n",
                            "      <td>5.382</td>\n",
                            "      <td>5.552</td>\n",
                            "      <td>0.001</td>\n",
                            "      <td>0.001</td>\n",
                            "      <td>2446.0</td>\n",
                            "      <td>1351.0</td>\n",
                            "      <td>1.0</td>\n",
                            "    </tr>\n",
                            "  </tbody>\n",
                            "</table>\n",
                            "</div>"
                        ],
                        "text/plain": [
                            "       mean     sd  hdi_3%  hdi_97%  mcse_mean  mcse_sd  ess_bulk  ess_tail  \\\n",
                            "μ[0]  5.005  0.065   4.875    5.119      0.001    0.001    2691.0    1314.0   \n",
                            "μ[1]  5.936  0.065   5.816    6.052      0.001    0.001    2594.0    1468.0   \n",
                            "σ     0.447  0.033   0.386    0.508      0.001    0.000    2477.0    1484.0   \n",
                            "bd    5.470  0.045   5.382    5.552      0.001    0.001    2446.0    1351.0   \n",
                            "\n",
                            "      r_hat  \n",
                            "μ[0]    1.0  \n",
                            "μ[1]    1.0  \n",
                            "σ       1.0  \n",
                            "bd      1.0  "
                        ]
                    },
                    "execution_count": 10,
                    "metadata": {},
                    "output_type": "execute_result"
                }
            ],
            "source": [
                "az.summary(trace_lda)"
            ]
        }
    ],
    "metadata": {
        "interpreter": {
            "hash": "14395c271f7a23b331c8f5f0139dc82129d4ff410a5b00cf69b55a03a150d670"
        },
        "kernelspec": {
            "display_name": "Python 3.9.6 64-bit ('kaggle': conda)",
            "name": "python3"
        },
        "language_info": {
            "codemirror_mode": {
                "name": "ipython",
                "version": 3
            },
            "file_extension": ".py",
            "mimetype": "text/x-python",
            "name": "python",
            "nbconvert_exporter": "python",
            "pygments_lexer": "ipython3",
            "version": "3.10.2"
        },
        "orig_nbformat": 4
    },
    "nbformat": 4,
    "nbformat_minor": 2
}