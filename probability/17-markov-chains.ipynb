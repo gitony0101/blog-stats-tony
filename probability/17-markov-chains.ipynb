{
 "cells": [
  {
   "cell_type": "markdown",
   "metadata": {},
   "source": [
    "# Markov Chains"
   ]
  },
  {
   "cell_type": "code",
   "execution_count": 1,
   "metadata": {},
   "outputs": [],
   "source": [
    "import matplotlib.pyplot as plt\n",
    "import numpy as np"
   ]
  },
  {
   "cell_type": "markdown",
   "metadata": {},
   "source": [
    "## Matrix calculations\n",
    "\n",
    "Let's do some calculations for the 4-state Markov chain in Example 11.1.5, as an example of working with transition matrices in Python/NumPy/SciPy. First, we need to specify the transition matrix $Q$. This is done with a 2-dimensional [`numpy.ndarray`](https://docs.scipy.org/doc/numpy/reference/generated/numpy.ndarray.html): we type in the entries of the matrix, row by row, as a long vector, and then we pass that to the [`numpy.array`](https://docs.scipy.org/doc/numpy/reference/generated/numpy.array.html) function:"
   ]
  },
  {
   "cell_type": "code",
   "execution_count": 2,
   "metadata": {},
   "outputs": [
    {
     "name": "stdout",
     "output_type": "stream",
     "text": [
      "[[0.33333333 0.33333333 0.33333333 0.        ]\n",
      " [0.         0.         0.5        0.5       ]\n",
      " [0.         1.         0.         0.        ]\n",
      " [0.5        0.         0.         0.5       ]]\n",
      "\n",
      "transition matrix Q has shape: (4, 4)\n"
     ]
    }
   ],
   "source": [
    "Q = np.array([[1/3, 1/3, 1/3, 0],\n",
    "              [0, 0, 1/2, 1/2],\n",
    "              [0, 1, 0, 0],\n",
    "              [1/2, 0, 0, 1/2]])\n",
    "\n",
    "print(Q)\n",
    "print('\\ntransition matrix Q has shape: {}'.format(Q.shape))"
   ]
  },
  {
   "cell_type": "markdown",
   "metadata": {},
   "source": [
    "To obtain higher order transition probabilities, we can multiply $Q$ by itself repeatedly. Matrix multiplication in NumPy is supported by [`numpy.dot`](https://docs.scipy.org/doc/numpy/reference/generated/numpy.dot.html) both as a NumPy function and as an object method on an instance of `numpy.ndarray`; the matrix multiplication function [`numpy.matmul`](https://docs.scipy.org/doc/numpy/reference/generated/numpy.matmul.html); and the relatively new [`@`](https://docs.python.org/3/whatsnew/3.5.html#whatsnew-pep-465) infix operator. Using `@` makes the code cleaner, so this notebook will use `@`. So"
   ]
  },
  {
   "cell_type": "code",
   "execution_count": 3,
   "metadata": {},
   "outputs": [],
   "source": [
    "Q2 = Q @ Q \n",
    "Q3 = Q2 @ Q \n",
    "Q4 = Q2 @ Q2\n",
    "Q5 = Q3 @ Q2"
   ]
  },
  {
   "cell_type": "markdown",
   "metadata": {},
   "source": [
    "produces $Q^2$ through $Q^5$. If we want to know the probability of going from state 3 to state 4 in exactly 5 steps, we can extract the $(3, 4)$ entry of $Q^5$. However, please do not forget that arrays in Python are zero-indexed, so if we want the $i$<sup>th</sup>, $j$<sup>th</sup> entry of $Q^5$, we need to index using $i-1$, $j-1$:"
   ]
  },
  {
   "cell_type": "code",
   "execution_count": 4,
   "metadata": {},
   "outputs": [
    {
     "data": {
      "text/plain": [
       "0.22916666666666666"
      ]
     },
     "execution_count": 4,
     "metadata": {},
     "output_type": "execute_result"
    }
   ],
   "source": [
    "# indexing to obtain the (3,4) entry of Q5\n",
    "Q5[3-1, 4-1]"
   ]
  },
  {
   "cell_type": "markdown",
   "metadata": {},
   "source": [
    "This gives 0.229, agreeing with the value 11/48 shown in Example 11.1.5.\n",
    "\n",
    "To compute a power $Q^n$ without directly doing repeated matrix multiplications, we can use the [`scipy.linalg.fractional_matrix_power`](https://docs.scipy.org/doc/scipy/reference/generated/scipy.linalg.fractional_matrix_power.html#scipy.linalg.fractional_matrix_power) function in the SciPy [`scipy.linalg`](https://docs.scipy.org/doc/scipy/reference/linalg.html) module. For example, `scipy.linalg.fractional_matrix_power(Q, 42)` yields $Q^{42}$. By exploring the behavior of $Q^n$ as $n$ grows, we can see Theorem 11.3.6 in action (and get a sense of how long it takes for the chain to get very close to its stationary distribution). In particular, for $n$ large each row of $Q^n$ is approximately (0.214, 0.286, 0.214, 0.286), so this is approximately the stationary distribution."
   ]
  },
  {
   "cell_type": "code",
   "execution_count": 5,
   "metadata": {},
   "outputs": [
    {
     "name": "stdout",
     "output_type": "stream",
     "text": [
      "[[0.21428573 0.28571434 0.21428567 0.28571426]\n",
      " [0.21428581 0.28571476 0.21428534 0.28571409]\n",
      " [0.21428559 0.28571363 0.21428623 0.28571455]\n",
      " [0.21428571 0.28571426 0.21428573 0.2857143 ]]\n"
     ]
    }
   ],
   "source": [
    "from scipy.linalg import fractional_matrix_power\n",
    "\n",
    "# to learn more about scipy.linalg.fractional_matrix_power, un-comment out the following line\n",
    "#print(fractional_matrix_power.__doc__)\n",
    "\n",
    "Q42 = fractional_matrix_power(Q, 42)\n",
    "\n",
    "print(Q42)"
   ]
  },
  {
   "cell_type": "markdown",
   "metadata": {},
   "source": [
    "Another way to obtain the stationary distribution numerically is to use the [`scipy.linalg.eig`](https://docs.scipy.org/doc/scipy/reference/generated/scipy.linalg.eig.html) function in the `scipy.linalg` module to compute the eigenvalues and eigenvectors of the transpose of $Q$; then the eigenvector corresponding to the eigenvalue 1 can be selected and normalized so that the components sum to 1."
   ]
  },
  {
   "cell_type": "code",
   "execution_count": 6,
   "metadata": {},
   "outputs": [
    {
     "name": "stdout",
     "output_type": "stream",
     "text": [
      "eigenvalues of Q.T:\n",
      "[ 1.        +0.j          0.2765877 +0.39374041j  0.2765877 -0.39374041j\n",
      " -0.71984207+0.j        ]\n",
      "\n",
      "first eigenvector of Q.T:\n",
      "[0.42426407+0.j 0.56568542+0.j 0.42426407+0.j 0.56568542+0.j]\n",
      "\n",
      "approximated stationary distribution of Q\n",
      "[0.21428571 0.28571429 0.21428571 0.28571429]\n"
     ]
    }
   ],
   "source": [
    "from scipy.linalg import eig\n",
    "\n",
    "# to learn more about scipy.linalg.eig, un-comment out the following line\n",
    "#print(eig.__doc__)\n",
    "\n",
    "eigvals, eigvecs = eig(Q.T)\n",
    "\n",
    "# any eigenvalues of 1?\n",
    "print('eigenvalues of Q.T:\\n{}\\n'.format(eigvals))\n",
    "\n",
    "# if so, take the corresponding eigenvector...\n",
    "eigvec = eigvecs[:, 0]\n",
    "print('first eigenvector of Q.T:\\n{}\\n'.format(eigvec))\n",
    "\n",
    "# and normalize to get the stationary distribution\n",
    "stat_dist = np.real(eigvec / eigvec.sum())\n",
    "print('approximated stationary distribution of Q\\n{}'.format(stat_dist))"
   ]
  },
  {
   "cell_type": "markdown",
   "metadata": {},
   "source": [
    "## Gambler's ruin\n",
    "\n",
    "To simulate from the gambler's ruin chain, we start by deciding the total amount of money $N$ between the two gamblers, the probability $p$ of gambler $A$ winning a given round, and the number of time periods $nsim$ that we wish to simulate."
   ]
  },
  {
   "cell_type": "code",
   "execution_count": 7,
   "metadata": {},
   "outputs": [],
   "source": [
    "N = 10\n",
    "p = 1/2\n",
    "nsim = 80"
   ]
  },
  {
   "cell_type": "markdown",
   "metadata": {},
   "source": [
    "Next, we allocate an array of length `nsim` called `x`, which will store the values of the Markov chain. For the initial condition, we set the first entry of `x` equal to 5; this gives both gamblers $5 to start with."
   ]
  },
  {
   "cell_type": "code",
   "execution_count": 8,
   "metadata": {},
   "outputs": [],
   "source": [
    "x = np.zeros(nsim)\n",
    "x[0] = 5"
   ]
  },
  {
   "cell_type": "markdown",
   "metadata": {},
   "source": [
    "Now we are ready to simulate the subsequent values of the Markov chain. This is achieved with the following block of code, which we will explain step by step."
   ]
  },
  {
   "cell_type": "code",
   "execution_count": 9,
   "metadata": {},
   "outputs": [],
   "source": [
    "np.random.seed(267914296)\n",
    "\n",
    "for i in range(1, nsim):\n",
    "    if x[i-1]==0 or x[i-1]==N:\n",
    "        x[i] = x[i-1]\n",
    "    else:\n",
    "        x[i] = x[i-1] + np.random.choice([1, -1], 1, p=[0.5, 1-0.5])[0]            "
   ]
  },
  {
   "cell_type": "markdown",
   "metadata": {},
   "source": [
    "The first line constitutes a for loop: `for i in range(1, nsim):` means that all the code inside the for loop will be executed over and over, with the value of `i` set to 1, then set to 2, then set to 3, all the way until `i` reaches the value `nsim`. Each pass through the loop represents one step of the Markov chain.\n",
    "\n",
    "Inside the for loop, we first check to see whether the chain is already at one of the endpoints, 0 or `N`; we do this with an `if` statement. If the chain is already at 0 or `N`, then we set its new value equal to its previous value, since the chain is not allowed to escape 0 or `N`. Otherwise, if the chain is not at 0 or `N`, it is free to move left or right. We use the `numpy.random.choice` function to move to the right 1 unit or to the left 1 unit, with probabilities `p` and `1-p`, respectively.\n",
    "\n",
    "To see what path was taken by the Markov chain during our simulation, we can plot the values of `x` as a function of time:"
   ]
  },
  {
   "cell_type": "code",
   "execution_count": 10,
   "metadata": {},
   "outputs": [
    {
     "data": {
      "image/png": "[encoded data removed]",
      "text/plain": [
       "<Figure size 864x288 with 1 Axes>"
      ]
     },
     "metadata": {
      "needs_background": "light"
     },
     "output_type": "display_data"
    }
   ],
   "source": [
    "time = np.arange(1, nsim+1)\n",
    "\n",
    "plt.figure(figsize=(12,4))\n",
    "\n",
    "plt.plot(time, x, '-', lw=3.2, alpha=0.7, color='#fc4e2a')\n",
    "plt.hlines(5, 0, nsim, ls='dotted', lw=1.1, alpha=0.5)\n",
    "\n",
    "plt.ylim((0,10))\n",
    "plt.ylabel('x')\n",
    "plt.yticks(range(0,11,1))\n",
    "plt.xlim(1,nsim)\n",
    "plt.xlabel('time')\n",
    "plt.xticks([1, 20, 40, 60, 80])\n",
    "plt.title('Markov Chain Simulation: Gambler\\'s Ruin')\n",
    "\n",
    "plt.show()"
   ]
  },
  {
   "cell_type": "markdown",
   "metadata": {},
   "source": [
    "You should see a path that starts at 5 and bounces up and down before being absorbed into state 0 or state N."
   ]
  },
  {
   "cell_type": "markdown",
   "metadata": {},
   "source": [
    "## Simulating from a finite-state Markov chain\n",
    "\n",
    "With a few modifications, we can simulate from an arbitrary Markov chain on a finite state space. For concreteness, we will illustrate how to simulate from the 4-state Markov chain in Example 11.1.5.\n",
    "\n",
    "As above, we can type"
   ]
  },
  {
   "cell_type": "code",
   "execution_count": 11,
   "metadata": {},
   "outputs": [],
   "source": [
    "Q = np.array([[1/3, 1/3, 1/3, 0],\n",
    "              [0, 0, 1/2, 1/2],\n",
    "              [0, 1, 0, 0],\n",
    "              [1/2, 0, 0, 1/2]])"
   ]
  },
  {
   "cell_type": "markdown",
   "metadata": {},
   "source": [
    "to specify the transition matrix $Q$.\n",
    "\n",
    "Next, we choose the number of states and the number of time periods to simulate, we allocate space for the results of the simulation, and we choose initial conditions for the chain. In this example, `x[0] = numpy.random.choice(range(1,4+1), 1)[0]` says the initial distribution of the chain is uniform over all states. States 1, 2, 3, 4 map to Python matrix row indices 0, 1, 2, 3."
   ]
  },
  {
   "cell_type": "code",
   "execution_count": 12,
   "metadata": {},
   "outputs": [],
   "source": [
    "np.random.seed(433494437)\n",
    "\n",
    "# states: 1, 2, 3, 4\n",
    "M = Q.shape[0]\n",
    "nsim = 10**4\n",
    "x = np.zeros(nsim)\n",
    "x[0] = np.random.choice(range(1, M+1), 1)[0]"
   ]
  },
  {
   "cell_type": "markdown",
   "metadata": {},
   "source": [
    "For the simulation itself, we again use `numpy.random.choice` to choose a number from 1 to `M`. At time `i`, the chain was previously at state `x[i-1]`, so we must use row `x[i-1]` of the transition matrix to determine the probabilities of sampling $1, 2, \\dots, M$. The notation `Q[x[i-1] - 1, :]` denotes row `x[i-1] - 1` of the matrix $Q$ (but do not forget that with states 1, 2, 3, 4, indexing matrix `Q` needs to use 0, 1, 2, 3 since arrays/matrices in Python are zero-indexed, hence we need to decrement by 1)."
   ]
  },
  {
   "cell_type": "code",
   "execution_count": 13,
   "metadata": {},
   "outputs": [],
   "source": [
    "np.random.seed(888)\n",
    "\n",
    "for i in range(1, nsim):\n",
    "    prev_row = int(x[i-1] - 1)\n",
    "    x[i] = np.random.choice(range(1,M+1), 1, p=Q[prev_row, :])[0]"
   ]
  },
  {
   "cell_type": "markdown",
   "metadata": {},
   "source": [
    "Since we set `nsim` to a large number, it may be reasonable to believe that the chain is close to stationarity during the latter portion of the simulation. To check this, we eliminate the first half of the simulations to give the chain time to reach stationarity:"
   ]
  },
  {
   "cell_type": "code",
   "execution_count": 14,
   "metadata": {},
   "outputs": [],
   "source": [
    "# index of halfway point\n",
    "halfway = int(nsim/2)\n",
    "\n",
    "# slice array x keeping the latter half of x\n",
    "# (starting from the halfway point)\n",
    "x = x[-halfway:]"
   ]
  },
  {
   "cell_type": "markdown",
   "metadata": {},
   "source": [
    "We then use [`numpy.unique`](https://docs.scipy.org/doc/numpy/reference/generated/numpy.unique.html) to calculate the number of times the chain visited each state; dividing by `x.size` converts the counts into proportions. The result is an approximation to the stationary distribution."
   ]
  },
  {
   "cell_type": "code",
   "execution_count": 15,
   "metadata": {},
   "outputs": [
    {
     "name": "stdout",
     "output_type": "stream",
     "text": [
      "approximation to stationary distribution of Q:\n",
      "[0.2116 0.2846 0.2156 0.2882]\n"
     ]
    }
   ],
   "source": [
    "_, counts = np.unique(x, return_counts=True)\n",
    "\n",
    "stat_dist = counts / x.size\n",
    "print('approximation to stationary distribution of Q:\\n{}'.format(stat_dist))"
   ]
  },
  {
   "cell_type": "markdown",
   "metadata": {},
   "source": [
    "For comparison, the true stationary distribution of the chain is (3/14, 2/7, 3/14, 2/7) $\\approx$ (0.214, 0.286, 0.214, 0.286). Is this close to what you obtained empirically?"
   ]
  },
  {
   "cell_type": "markdown",
   "metadata": {},
   "source": [
    "----\n",
    "\n",
    "Joseph K. Blitzstein and Jessica Hwang, Harvard University and Stanford University, &copy; 2019 by Taylor and Francis Group, LLC"
   ]
  }
 ],
 "metadata": {
  "interpreter": {
   "hash": "e800442a8199dbcc6635d00dd2fa01c9421dc610d63b67de945b4487d2fb3f05"
  },
  "kernelspec": {
   "display_name": "Python 3.9.7 64-bit ('kaggle': conda)",
   "name": "python3"
  },
  "language_info": {
   "codemirror_mode": {
    "name": "ipython",
    "version": 3
   },
   "file_extension": ".py",
   "mimetype": "text/x-python",
   "name": "python",
   "nbconvert_exporter": "python",
   "pygments_lexer": "ipython3",
   "version": "3.10.2"
  },
  "notebook_info": {
   "author": "Joseph K. Blitzstein, Jessica Hwang",
   "chapter": "11. Markov Chains",
   "creator": "buruzaemon",
   "section": "11.6",
   "title": "Introduction to Probability, 1st Edition"
  }
 },
 "nbformat": 4,
 "nbformat_minor": 2
}
