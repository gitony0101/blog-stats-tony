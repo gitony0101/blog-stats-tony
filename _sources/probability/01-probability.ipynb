{
 "cells": [
  {
   "cell_type": "markdown",
   "metadata": {},
   "source": [
    "# Probability and Counting"
   ]
  },
  {
   "cell_type": "code",
   "execution_count": 1,
   "metadata": {},
   "outputs": [],
   "source": [
    "import numpy as np\n",
    "from scipy import stats, special"
   ]
  },
  {
   "cell_type": "markdown",
   "metadata": {},
   "source": [
    "# Sampling and simulation"
   ]
  },
  {
   "cell_type": "markdown",
   "metadata": {
    "collapsed": true
   },
   "source": [
    "The function [`numpy.random.choice`](https://docs.scipy.org/doc/numpy-1.15.0/reference/generated/numpy.random.choice.html) is a useful way of drawing random samples in NumPy. (Technically, they are pseudo-random since there is an underlying deterministic algorithm, but they \"look like\" random samples for almost all practical purposes.) For example,"
   ]
  },
  {
   "cell_type": "code",
   "execution_count": 2,
   "metadata": {},
   "outputs": [
    {
     "data": {
      "text/plain": [
       "array([ 3, 10,  7,  5,  1])"
      ]
     },
     "execution_count": 2,
     "metadata": {},
     "output_type": "execute_result"
    }
   ],
   "source": [
    "# seed the random number generator\n",
    "np.random.seed(1)\n",
    "\n",
    "n = 10\n",
    "k = 5\n",
    "np.random.choice(np.arange(1, n+1), k, replace=False)"
   ]
  },
  {
   "cell_type": "markdown",
   "metadata": {},
   "source": [
    "generates a random sample of 5 of the numbers from 1 to 10, without replacement, and with equal probabilities given to each number. To sample with replacement instead, you can explicitly specify `replace=True`, or you may leave that argument out altogether since the default for `numpy.random.choice` is `replace=True`."
   ]
  },
  {
   "cell_type": "code",
   "execution_count": 3,
   "metadata": {},
   "outputs": [
    {
     "data": {
      "text/plain": [
       "array([ 6,  9, 10,  6,  1])"
      ]
     },
     "execution_count": 3,
     "metadata": {},
     "output_type": "execute_result"
    }
   ],
   "source": [
    "np.random.seed(1)\n",
    "\n",
    "# Example: sampling with replacement\n",
    "np.random.choice(np.arange(1, n + 1), k, replace=True)"
   ]
  },
  {
   "cell_type": "markdown",
   "metadata": {},
   "source": [
    "To obtain a random permutation of an `array` of numbers $1, 2, \\ldots, n$ we can use [`numpy.random.shuffle`](https://docs.scipy.org/doc/numpy/reference/generated/numpy.random.shuffle.html). Note that this function operates on the given `array` in-place."
   ]
  },
  {
   "cell_type": "code",
   "execution_count": 4,
   "metadata": {},
   "outputs": [
    {
     "name": "stdout",
     "output_type": "stream",
     "text": [
      "v = [ 1  2  3  4  5  6  7  8  9 10]\n",
      "v, shuffled = [ 5  2  6  1  8  3  4  7 10  9]\n"
     ]
    }
   ],
   "source": [
    "np.random.seed(2)\n",
    "\n",
    "m = 1\n",
    "n = 10\n",
    "\n",
    "v = np.arange(m, n + 1)\n",
    "print('v =', v)\n",
    "\n",
    "np.random.shuffle(v)\n",
    "print('v, shuffled =', v)"
   ]
  },
  {
   "cell_type": "markdown",
   "metadata": {},
   "source": [
    "`numpy.random.choice` also allows us to specify general probabilities for sampling each number. For example,"
   ]
  },
  {
   "cell_type": "code",
   "execution_count": 5,
   "metadata": {},
   "outputs": [
    {
     "data": {
      "text/plain": [
       "array([2, 3, 1])"
      ]
     },
     "execution_count": 5,
     "metadata": {},
     "output_type": "execute_result"
    }
   ],
   "source": [
    "np.random.seed(3)\n",
    "\n",
    "# from the 4 numbers starting from 0\n",
    "# obtain a sample of size 3\n",
    "# with replacement\n",
    "# using the probabilities listed in p\n",
    "np.random.choice(4, 3, replace=True, p=[0.1, 0.2, 0.3, 0.4])"
   ]
  },
  {
   "cell_type": "markdown",
   "metadata": {},
   "source": [
    "samples 3 numbers between 0 and 3, with replacement, and with probabilities given by the parameter `p=[0.1, 0.2, 0.3, 0.4]`. If the sampling is without replacement, then at each stage the probability of any not-yet-chosen number is _proportional_ to its original probability."
   ]
  },
  {
   "cell_type": "markdown",
   "metadata": {},
   "source": [
    "# Matching problem simulation\n",
    "\n",
    "Let's show by simulation that the probability of a matching card in Example 1.6.4 is approximately $1 − 1/e$ when the deck is sufficiently large. Using [`numpy.random.permutation`](https://docs.scipy.org/doc/numpy/reference/generated/numpy.random.permutation.html#numpy.random.permutation) while iterating in a for-loop (see Python flow controls [`for`](https://docs.python.org/3/tutorial/controlflow.html#for-statements) and [`range`](https://docs.python.org/3/tutorial/controlflow.html#the-range-function)), we can perform the experiment a bunch of times and see how many times we encounter at least one matching card:"
   ]
  },
  {
   "cell_type": "code",
   "execution_count": 6,
   "metadata": {},
   "outputs": [
    {
     "name": "stdout",
     "output_type": "stream",
     "text": [
      "simulated value: 0.62\n",
      "expected value : 0.63\n"
     ]
    }
   ],
   "source": [
    "np.random.seed(8)\n",
    "\n",
    "n = 100\n",
    "trials = 10000\n",
    "\n",
    "ordered = np.arange(1, n + 1)\n",
    "\n",
    "results = np.empty(trials)\n",
    "\n",
    "for trial in range(trials):\n",
    "    shuffled = np.random.permutation(ordered)\n",
    "    results[trial] = np.sum(shuffled == ordered)\n",
    "\n",
    "ans = np.sum(results >= 1) / trials\n",
    "\n",
    "expected = 1 - 1 / np.e\n",
    "\n",
    "print(f'simulated value: {ans:.2F}')\n",
    "print(f'expected value : {expected:.2F}')"
   ]
  },
  {
   "cell_type": "markdown",
   "metadata": {},
   "source": [
    "First, we declare and assign values to variables for the size of the deck `n`, and the number of `trials` in our simulation.\n",
    "\n",
    "Next, we generate a sequence from 1 to `n` (stopping at `n+1` to include `n`) to represent our ordered deck of cards.\n",
    "\n",
    "The code then loops for `trial` number of times, where\n",
    "* a permutation of a new sequence from 1 to `n` is created\n",
    "* the number of cards (indices) that match with our `ordered` sequence are counted as `m`\n",
    "* the number of matches `m` are saved to a temporary accumulator array `tmp`\n",
    "\n",
    "After completing `trial` simulations, we create a NumPy `array` `results` from the `tmp` accumulator, which lets us count the number of simulations where there was at least 1 match.\n",
    "\n",
    "Finally, we add up the number of times where there was at least one matching card, and we divide by the number of simulations."
   ]
  },
  {
   "cell_type": "markdown",
   "metadata": {},
   "source": [
    "## Birthday problem calculation and simulation\n",
    "\n",
    "The following code uses the NumPy module functions [`numpy.prod`](https://docs.scipy.org/doc/numpy/reference/generated/numpy.prod.html)  (which gives the product of the elements of the given `array`) and [`numpy.sum`](https://docs.scipy.org/doc/numpy/reference/generated/numpy.sum.html) to calculate the probability of at least one birthday match in a group of 23 people:"
   ]
  },
  {
   "cell_type": "code",
   "execution_count": 7,
   "metadata": {},
   "outputs": [
    {
     "data": {
      "text/plain": [
       "0.5072972343239857"
      ]
     },
     "execution_count": 7,
     "metadata": {},
     "output_type": "execute_result"
    }
   ],
   "source": [
    "k = 23\n",
    "days_in_year = 365\n",
    "\n",
    "numer = np.arange(days_in_year, days_in_year - k, -1)\n",
    "denom = np.array([days_in_year] * k)\n",
    "\n",
    "1.0 - np.sum(np.prod(numer / denom))"
   ]
  },
  {
   "cell_type": "markdown",
   "metadata": {},
   "source": [
    "Unfortunately, NumPy and SciPy do not have library functions such as [`pbirthday` and `qbirthday`](https://www.rdocumentation.org/packages/stats/versions/3.5.1/topics/birthday) for computing birthday probabilities as does R. However, you can easily compose your own functions."
   ]
  },
  {
   "cell_type": "code",
   "execution_count": 8,
   "metadata": {},
   "outputs": [
    {
     "name": "stdout",
     "output_type": "stream",
     "text": [
      "50.7% chance of at least 1 birthday match among 23 people\n",
      "For an approximately 50.0% chance of at least 1 birthday match, we need 23 people\n"
     ]
    }
   ],
   "source": [
    "def pbirthday_naive(n):\n",
    "    \"\"\" Return the probability of at least 1 matching pair of birthdays out of n people.\n",
    "        Assumes 365-day year.\n",
    "    \n",
    "        This is a naive implementation that may overflow or error under certain input.\n",
    "    \"\"\"\n",
    "    days_in_year = 365\n",
    "    if n < 2:\n",
    "        return 0.0\n",
    "    elif n > days_in_year:\n",
    "        return 1.0\n",
    "    else:\n",
    "        numer = np.arange(days_in_year, days_in_year - n, -1)\n",
    "        denom = np.array([days_in_year] * n)\n",
    "        return 1.0 - np.sum(np.prod(numer / denom))\n",
    "\n",
    "\n",
    "def qbirthday_naive(p):\n",
    "    \"\"\" Return an approximation of the number of people required to have at least 1 birthday\n",
    "        match with probability p.\n",
    "    \"\"\"\n",
    "    raw = np.sqrt(2 * 365 * np.log(1.0 / (1.0 - p)))\n",
    "    return np.ceil(raw).astype(np.int32)\n",
    "\n",
    "\n",
    "n = 23\n",
    "pbirthday_naive_ans = pbirthday_naive(n)\n",
    "print(\n",
    "    f'{pbirthday_naive_ans*100.0:.1f}% chance of at least 1 birthday match among {n} people'\n",
    ")\n",
    "\n",
    "p = 0.50\n",
    "qbirthday_naive_ans = qbirthday_naive(p)\n",
    "print(\n",
    "    f'For an approximately {p*100.0:.1f}% chance of at least 1 birthday match, we need {qbirthday_naive_ans} people'\n",
    ")\n"
   ]
  },
  {
   "cell_type": "markdown",
   "metadata": {},
   "source": [
    "We can also find the probability of having at least one _triple birthday match_, i.e., three people with the same birthday; with the `pbirthday` and `qbirthday` functions below, all we have to do is add `coincident=3` to say we're looking for triple matches. For example, `pbirthday(23, coincident=3)` returns 0.014, so 23 people give us only a 1.4% chance of a triple birthday match. `qbirthday(0.5, coincident=3)` returns 88, so we'd need 88 people to have at least a 50% chance of at least one triple birthday match."
   ]
  },
  {
   "cell_type": "code",
   "execution_count": 9,
   "metadata": {},
   "outputs": [
    {
     "name": "stdout",
     "output_type": "stream",
     "text": [
      "1.4% chance of triple birthday match among 23 people\n",
      "We need 88 people for a triple match with probability of 50.0%\n"
     ]
    }
   ],
   "source": [
    "def pbirthday(n, classes=365, coincident=2):\n",
    "    \"\"\" Return the probability of a coincidence of a birthday match among n people.\n",
    "    \n",
    "        Python implementation of R's pbirthday {stats}.\n",
    "    \"\"\"\n",
    "    k = coincident\n",
    "    c = classes\n",
    "\n",
    "    if k < 2:\n",
    "        return 1.0\n",
    "    if k == 2:\n",
    "        numer = np.arange(c, c - n, -1)\n",
    "        denom = np.array([c] * n)\n",
    "        return 1.0 - np.sum(np.prod(numer / denom))\n",
    "    if k > n:\n",
    "        return 0.0\n",
    "    if n > c * (k - 1):\n",
    "        return 1.0\n",
    "    else:\n",
    "        lhs = n * np.exp(-n / (c * k)) / (1 - n / (c * (k + 1)))**(1 / k)\n",
    "        lxx = k * np.log(lhs) - (k - 1) * np.log(c) - special.gammaln(k + 1)\n",
    "        return -np.expm1(-np.exp(lxx))\n",
    "\n",
    "\n",
    "def qbirthday(prob=0.5, classes=365, coincident=2):\n",
    "    \"\"\" Return the smallest number of people needed to have at least\n",
    "        the specified probability of coincidence.\n",
    "    \n",
    "        Python implementation of R's qbirthday {stats}.\n",
    "    \"\"\"\n",
    "    k = coincident\n",
    "    c = classes\n",
    "    p = prob\n",
    "\n",
    "    if p <= 0.0:\n",
    "        return 1\n",
    "    if p >= 1.0:\n",
    "        return c * (k - 1) + 1\n",
    "\n",
    "    N = np.exp((\n",
    "        (k - 1) * np.log(c) + special.gammaln(k + 1) + np.log(-np.log1p(-p))) /\n",
    "               k)\n",
    "    N = np.ceil(N).astype(np.int32)\n",
    "    if pbirthday(N, c, k) < p:\n",
    "        N += 1\n",
    "        while pbirthday(N, c, k) < p:\n",
    "            N += 1\n",
    "    elif pbirthday(N - 1, c, k) >= p:\n",
    "        N -= 1\n",
    "        while pbirthday(N - 1, c, k) >= p:\n",
    "            N -= 1\n",
    "    return N\n",
    "\n",
    "\n",
    "n = 23\n",
    "pbirthday_ans = pbirthday(n, coincident=3)\n",
    "print(\n",
    "    f'{pbirthday_ans * 100.0:.1F}% chance of triple birthday match among {n} people'\n",
    ")\n",
    "\n",
    "p = 0.5\n",
    "qbirthday_ans = qbirthday(p, coincident=3)\n",
    "print(\n",
    "    f'We need {qbirthday_ans} people for a triple match with probability of {p * 100.0:.1F}%'\n",
    ")\n"
   ]
  },
  {
   "cell_type": "markdown",
   "metadata": {},
   "source": [
    "To simulate the birthday problem, we can use"
   ]
  },
  {
   "cell_type": "code",
   "execution_count": 10,
   "metadata": {},
   "outputs": [],
   "source": [
    "np.random.seed(13)\n",
    "\n",
    "b = np.random.choice(np.arange(1, 365+1), size=23, replace=True)\n",
    "u, c = np.unique(b, return_counts=True)"
   ]
  },
  {
   "cell_type": "markdown",
   "metadata": {},
   "source": [
    "to generate random birthdays for 23 people and then use [`numpy.unique`](https://docs.scipy.org/doc/numpy/reference/generated/numpy.unique.html), specifiying `return_counts=True`,  to tally up the counts of how many people were born on each day. We can run 10<sup>4</sup> repetitions as follows:"
   ]
  },
  {
   "cell_type": "code",
   "execution_count": 11,
   "metadata": {},
   "outputs": [
    {
     "name": "stdout",
     "output_type": "stream",
     "text": [
      "In a simulation with 10000 trials, the probability of a birthday match with 23 people is 0.5118\n"
     ]
    }
   ],
   "source": [
    "np.random.seed(21)\n",
    "\n",
    "n = 23\n",
    "trials = 10**4\n",
    "\n",
    "ordered = np.arange(1, n + 1)\n",
    "\n",
    "m = 0\n",
    "for i in range(trials):\n",
    "    b = np.random.choice(np.arange(1, 365 + 1), size=n, replace=True)\n",
    "    u, c = np.unique(b, return_counts=True)\n",
    "    if np.sum(c > 1):\n",
    "        m += 1\n",
    "\n",
    "p = m / trials\n",
    "print(\n",
    "    f'In a simulation with {trials} trials, the probability of a birthday match with {n} people is {p}'\n",
    ")"
   ]
  },
  {
   "cell_type": "markdown",
   "metadata": {},
   "source": [
    "If the probabilities of various days are not all equal, the calculation becomes much more difficult, but the simulation can easily be extended since `numpy.random.choice` allows us to specify a list `p` of the probability of each day (by default sample assigns equal probabilities, so in the above the probability is 1/365 for each day)."
   ]
  }
 ],
 "metadata": {
  "interpreter": {
   "hash": "e800442a8199dbcc6635d00dd2fa01c9421dc610d63b67de945b4487d2fb3f05"
  },
  "kernelspec": {
   "display_name": "Python 3.9.7 64-bit ('kaggle': conda)",
   "name": "python3"
  },
  "language_info": {
   "codemirror_mode": {
    "name": "ipython",
    "version": 3
   },
   "file_extension": ".py",
   "mimetype": "text/x-python",
   "name": "python",
   "nbconvert_exporter": "python",
   "pygments_lexer": "ipython3",
   "version": "3.10.4"
  },
  "notebook_info": {
   "author": "Joseph K. Blitzstein, Jessica Hwang",
   "chapter": "1. Probability and Counting",
   "creator": "buruzaemon",
   "section": "1.8",
   "title": "Introduction to Probability, 1st Edition"
  }
 },
 "nbformat": 4,
 "nbformat_minor": 2
}
